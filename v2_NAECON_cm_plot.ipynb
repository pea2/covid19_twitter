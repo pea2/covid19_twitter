{
  "nbformat": 4,
  "nbformat_minor": 0,
  "metadata": {
    "colab": {
      "name": "v2 NAECON -cm plot.ipynb",
      "provenance": [],
      "collapsed_sections": [
        "cl4au4zV7Xj2",
        "zoxce_V-9JQb",
        "TyqPHQ7zCOfA",
        "Bn-mWcDsZe70",
        "kgzY4EgycGzU",
        "y6HiA43lj1Cy",
        "RTxWKWoG84QH",
        "eGKNtUN8stKE",
        "Cb_YhkpftIja",
        "iqJlZGFyffh2",
        "E2NIxMcgtXKi",
        "kdl1SUoAgixF"
      ],
      "authorship_tag": "ABX9TyN6AN0yBODKgILeLJOSBom1",
      "include_colab_link": true
    },
    "kernelspec": {
      "name": "python3",
      "display_name": "Python 3"
    },
    "language_info": {
      "name": "python"
    }
  },
  "cells": [
    {
      "cell_type": "markdown",
      "metadata": {
        "id": "view-in-github",
        "colab_type": "text"
      },
      "source": [
        "<a href=\"https://colab.research.google.com/github/pea2/covid19_twitter/blob/master/v2_NAECON_cm_plot.ipynb\" target=\"_parent\"><img src=\"https://colab.research.google.com/assets/colab-badge.svg\" alt=\"Open In Colab\"/></a>"
      ]
    },
    {
      "cell_type": "markdown",
      "metadata": {
        "id": "cl4au4zV7Xj2"
      },
      "source": [
        "# Imports & Version Control -- Run"
      ]
    },
    {
      "cell_type": "code",
      "metadata": {
        "id": "l0orVPBp2McW",
        "colab": {
          "base_uri": "https://localhost:8080/"
        },
        "outputId": "8f905b70-adae-42b6-9815-6c5c8c915233"
      },
      "source": [
        "# change current working directory to NLP/Project folder\n",
        "from google.colab import drive \n",
        "drive.mount('/content/drive')\n",
        "import os\n",
        "%cd /content/drive/My\\ Drive/Colab\\ Notebooks/NAECON/\n",
        "# upload my boat_loads_of_functions.py file on desktop Pycharm/NLP Project to Colab\n",
        "# from google.colab import files\n",
        "# files.upload()\n",
        "import boat_loads_of_functions as fun\n",
        "import pandas as pd\n",
        "import numpy as np\n",
        "import matplotlib.pyplot as plt\n",
        "import seaborn as sns\n",
        "import pickle\n",
        "from time import time\n",
        "from sklearn.metrics import classification_report, confusion_matrix"
      ],
      "execution_count": null,
      "outputs": [
        {
          "output_type": "stream",
          "text": [
            "Drive already mounted at /content/drive; to attempt to forcibly remount, call drive.mount(\"/content/drive\", force_remount=True).\n",
            "/content/drive/My Drive/Colab Notebooks/NAECON\n"
          ],
          "name": "stdout"
        }
      ]
    },
    {
      "cell_type": "code",
      "metadata": {
        "id": "ZxfkjzHUaDOi"
      },
      "source": [
        "version = str(2)"
      ],
      "execution_count": null,
      "outputs": []
    },
    {
      "cell_type": "markdown",
      "metadata": {
        "id": "tzhGKq1T7gnB"
      },
      "source": [
        "# Analysis - bypass this section to next \"LOAD TEST DATA\""
      ]
    },
    {
      "cell_type": "markdown",
      "metadata": {
        "id": "zoxce_V-9JQb"
      },
      "source": [
        "## Read in test data for analysis"
      ]
    },
    {
      "cell_type": "code",
      "metadata": {
        "id": "jjtt-O5p2YMv",
        "colab": {
          "base_uri": "https://localhost:8080/"
        },
        "outputId": "ff0f7805-68c7-49f0-8d5a-b22136031c09"
      },
      "source": [
        "pd.set_option('display.max_colwidth', None)\n",
        "\n",
        "nb = pd.read_csv('v2 y_pred_nb_mul.csv')\n",
        "# see column names\n",
        "print(nb.columns)\n",
        "# Renmae column names\n",
        "nb = nb.rename(columns={'Unnamed: 0': 'Index', 'text':'Origianl Text', 'clean':'Normalized Text-NB',  'target':'Truth', 'nb_MN':'Prediction-NB'})\n",
        "nb[:15]"
      ],
      "execution_count": null,
      "outputs": [
        {
          "output_type": "stream",
          "text": [
            "Index(['Unnamed: 0', 'text', 'clean', 'target', 'nb_MN'], dtype='object')\n"
          ],
          "name": "stdout"
        },
        {
          "output_type": "execute_result",
          "data": {
            "text/html": [
              "<div>\n",
              "<style scoped>\n",
              "    .dataframe tbody tr th:only-of-type {\n",
              "        vertical-align: middle;\n",
              "    }\n",
              "\n",
              "    .dataframe tbody tr th {\n",
              "        vertical-align: top;\n",
              "    }\n",
              "\n",
              "    .dataframe thead th {\n",
              "        text-align: right;\n",
              "    }\n",
              "</style>\n",
              "<table border=\"1\" class=\"dataframe\">\n",
              "  <thead>\n",
              "    <tr style=\"text-align: right;\">\n",
              "      <th></th>\n",
              "      <th>Index</th>\n",
              "      <th>Origianl Text</th>\n",
              "      <th>Normalized Text-NB</th>\n",
              "      <th>Truth</th>\n",
              "      <th>Prediction-NB</th>\n",
              "    </tr>\n",
              "  </thead>\n",
              "  <tbody>\n",
              "    <tr>\n",
              "      <th>0</th>\n",
              "      <td>840769</td>\n",
              "      <td>Amazing, many of this current &amp;quot;cabinet&amp;quot; appear to have believed that our Tax system is definitely voluntary</td>\n",
              "      <td>amazing many of this current quot cabinet quot appear to have believed that our tax system is definitely voluntary</td>\n",
              "      <td>1</td>\n",
              "      <td>1</td>\n",
              "    </tr>\n",
              "    <tr>\n",
              "      <th>1</th>\n",
              "      <td>1570248</td>\n",
              "      <td>Shower Times Be Right Back!!</td>\n",
              "      <td>shower times be right back</td>\n",
              "      <td>1</td>\n",
              "      <td>1</td>\n",
              "    </tr>\n",
              "    <tr>\n",
              "      <th>2</th>\n",
              "      <td>484798</td>\n",
              "      <td>blasted internet is soooo slow due to this storm, everything is taking double time to load   can't seem to access most of the pages !!!!</td>\n",
              "      <td>blasted internet is soo slow due to this storm everything is taking double time to load cannot seem to access most of the pages</td>\n",
              "      <td>0</td>\n",
              "      <td>0</td>\n",
              "    </tr>\n",
              "    <tr>\n",
              "      <th>3</th>\n",
              "      <td>686270</td>\n",
              "      <td>Well I have to go!  play nicely  all xxx</td>\n",
              "      <td>well have to go play nicely all xx</td>\n",
              "      <td>0</td>\n",
              "      <td>1</td>\n",
              "    </tr>\n",
              "    <tr>\n",
              "      <th>4</th>\n",
              "      <td>1310453</td>\n",
              "      <td>just got home from the movies. UP was great!, so cute.</td>\n",
              "      <td>just got home from the movies up was great so cute</td>\n",
              "      <td>1</td>\n",
              "      <td>1</td>\n",
              "    </tr>\n",
              "    <tr>\n",
              "      <th>5</th>\n",
              "      <td>380811</td>\n",
              "      <td>@mattblissett im gutted really i am!</td>\n",
              "      <td>im gutted really am</td>\n",
              "      <td>0</td>\n",
              "      <td>0</td>\n",
              "    </tr>\n",
              "    <tr>\n",
              "      <th>6</th>\n",
              "      <td>235769</td>\n",
              "      <td>In possible the most shaded train station ever, with an hour untill next train to brum</td>\n",
              "      <td>in possible the most shaded train station ever with an hour untill next train to brum</td>\n",
              "      <td>0</td>\n",
              "      <td>0</td>\n",
              "    </tr>\n",
              "    <tr>\n",
              "      <th>7</th>\n",
              "      <td>574668</td>\n",
              "      <td>oh noes. Her pianist for leavers can't play cause its a break, her fingers are broken!!</td>\n",
              "      <td>oh noes her pianist for leavers cannot play cause its break her fingers are broken</td>\n",
              "      <td>0</td>\n",
              "      <td>0</td>\n",
              "    </tr>\n",
              "    <tr>\n",
              "      <th>8</th>\n",
              "      <td>1255917</td>\n",
              "      <td>@djtabone Nothing much. Just trying to get some expo in ATL  going to school and about to re-release this EP as an LP. How are you?</td>\n",
              "      <td>nothing much just trying to get some expo in atl going to school and about to re release this ep as an lp how are you</td>\n",
              "      <td>1</td>\n",
              "      <td>1</td>\n",
              "    </tr>\n",
              "    <tr>\n",
              "      <th>9</th>\n",
              "      <td>861446</td>\n",
              "      <td>@heidimontag i can't stop listening to all your new songs, especially 'more is more', i'm addicted!</td>\n",
              "      <td>cannot stop listening to all your new songs especially more is more am addicted</td>\n",
              "      <td>1</td>\n",
              "      <td>1</td>\n",
              "    </tr>\n",
              "    <tr>\n",
              "      <th>10</th>\n",
              "      <td>938477</td>\n",
              "      <td>All clean and shiny, last lecture today! Whoop!</td>\n",
              "      <td>all clean and shiny last lecture today whoop</td>\n",
              "      <td>1</td>\n",
              "      <td>1</td>\n",
              "    </tr>\n",
              "    <tr>\n",
              "      <th>11</th>\n",
              "      <td>1160505</td>\n",
              "      <td>not looking forward 2 work 2moro but hey a week until long weekend... BRING IT !!!! bwahaha needless 2 say Pretty Happy!!!</td>\n",
              "      <td>not looking forward work moro but hey week until long weekend bring it bwahaha needless say pretty happy</td>\n",
              "      <td>1</td>\n",
              "      <td>1</td>\n",
              "    </tr>\n",
              "    <tr>\n",
              "      <th>12</th>\n",
              "      <td>1388911</td>\n",
              "      <td>@ddlovato Thanks demi for defending girls like me who have weight difficulties to integrate myself in the society. Thanks so much, love u</td>\n",
              "      <td>thanks demi for defending girls like me who have weight difficulties to integrate myself in the society thanks so much love</td>\n",
              "      <td>1</td>\n",
              "      <td>1</td>\n",
              "    </tr>\n",
              "    <tr>\n",
              "      <th>13</th>\n",
              "      <td>1451326</td>\n",
              "      <td>feeling bored, but still in da good mood</td>\n",
              "      <td>feeling bored but still in da good mood</td>\n",
              "      <td>1</td>\n",
              "      <td>0</td>\n",
              "    </tr>\n",
              "    <tr>\n",
              "      <th>14</th>\n",
              "      <td>704239</td>\n",
              "      <td>@MissSolis yeah, a lot of people are broke. I'm one of them...  I should do the same. Sell all the electronics I don't use.</td>\n",
              "      <td>yeah lot of people are broke one of them should do the same sell all the electronics don use</td>\n",
              "      <td>0</td>\n",
              "      <td>0</td>\n",
              "    </tr>\n",
              "  </tbody>\n",
              "</table>\n",
              "</div>"
            ],
            "text/plain": [
              "      Index  ... Prediction-NB\n",
              "0    840769  ...             1\n",
              "1   1570248  ...             1\n",
              "2    484798  ...             0\n",
              "3    686270  ...             1\n",
              "4   1310453  ...             1\n",
              "5    380811  ...             0\n",
              "6    235769  ...             0\n",
              "7    574668  ...             0\n",
              "8   1255917  ...             1\n",
              "9    861446  ...             1\n",
              "10   938477  ...             1\n",
              "11  1160505  ...             1\n",
              "12  1388911  ...             1\n",
              "13  1451326  ...             0\n",
              "14   704239  ...             0\n",
              "\n",
              "[15 rows x 5 columns]"
            ]
          },
          "metadata": {
            "tags": []
          },
          "execution_count": 4
        }
      ]
    },
    {
      "cell_type": "code",
      "metadata": {
        "colab": {
          "base_uri": "https://localhost:8080/"
        },
        "id": "_ibw5X5536gl",
        "outputId": "f7b5e312-7221-40fd-982d-4c24761fc752"
      },
      "source": [
        "logreg = pd.read_csv('v14 y_pred_logreg.csv')\n",
        "# see column names\n",
        "print(logreg.columns)\n",
        "# Renmae column names\n",
        "logreg = logreg.rename(columns={'normal':'Normalized Text-Logreg', 'logreg':'Prediction-Logreg'})\n",
        "logreg.drop(['Unnamed: 0', 'text', 'clean', 'target'], axis=1, inplace=True)\n",
        "logreg[:15]"
      ],
      "execution_count": null,
      "outputs": [
        {
          "output_type": "stream",
          "text": [
            "Index(['Unnamed: 0', 'text', 'clean', 'normal', 'target', 'logreg'], dtype='object')\n"
          ],
          "name": "stdout"
        },
        {
          "output_type": "execute_result",
          "data": {
            "text/html": [
              "<div>\n",
              "<style scoped>\n",
              "    .dataframe tbody tr th:only-of-type {\n",
              "        vertical-align: middle;\n",
              "    }\n",
              "\n",
              "    .dataframe tbody tr th {\n",
              "        vertical-align: top;\n",
              "    }\n",
              "\n",
              "    .dataframe thead th {\n",
              "        text-align: right;\n",
              "    }\n",
              "</style>\n",
              "<table border=\"1\" class=\"dataframe\">\n",
              "  <thead>\n",
              "    <tr style=\"text-align: right;\">\n",
              "      <th></th>\n",
              "      <th>Normalized Text-Logreg</th>\n",
              "      <th>Prediction-Logreg</th>\n",
              "    </tr>\n",
              "  </thead>\n",
              "  <tbody>\n",
              "    <tr>\n",
              "      <th>0</th>\n",
              "      <td>amaz mani of thi current quot cabinet quot appear to have believ that our tax system is definit voluntari</td>\n",
              "      <td>1</td>\n",
              "    </tr>\n",
              "    <tr>\n",
              "      <th>1</th>\n",
              "      <td>shower time be right back</td>\n",
              "      <td>1</td>\n",
              "    </tr>\n",
              "    <tr>\n",
              "      <th>2</th>\n",
              "      <td>blast internet is soo slow due to thi storm everyth is take doubl time to load can not seem to access most of the page</td>\n",
              "      <td>0</td>\n",
              "    </tr>\n",
              "    <tr>\n",
              "      <th>3</th>\n",
              "      <td>well have to go play nice all xx</td>\n",
              "      <td>1</td>\n",
              "    </tr>\n",
              "    <tr>\n",
              "      <th>4</th>\n",
              "      <td>just got home from the movi up wa great so cute</td>\n",
              "      <td>1</td>\n",
              "    </tr>\n",
              "    <tr>\n",
              "      <th>5</th>\n",
              "      <td>im gut realli am</td>\n",
              "      <td>0</td>\n",
              "    </tr>\n",
              "    <tr>\n",
              "      <th>6</th>\n",
              "      <td>in possibl the most shade train station ever with an hour until next train to brum</td>\n",
              "      <td>1</td>\n",
              "    </tr>\n",
              "    <tr>\n",
              "      <th>7</th>\n",
              "      <td>oh noe her pianist for leaver can not play caus it break her finger are broken</td>\n",
              "      <td>0</td>\n",
              "    </tr>\n",
              "    <tr>\n",
              "      <th>8</th>\n",
              "      <td>noth much just tri to get some expo in atl go to school and about to re releas thi ep as an lp how are you</td>\n",
              "      <td>1</td>\n",
              "    </tr>\n",
              "    <tr>\n",
              "      <th>9</th>\n",
              "      <td>can not stop listen to all your new song especi more is more am addict</td>\n",
              "      <td>1</td>\n",
              "    </tr>\n",
              "    <tr>\n",
              "      <th>10</th>\n",
              "      <td>all clean and shini last lectur today whoop</td>\n",
              "      <td>1</td>\n",
              "    </tr>\n",
              "    <tr>\n",
              "      <th>11</th>\n",
              "      <td>not look forward work moro but hey week until long weekend bring it bwahaha needless say pretti happi</td>\n",
              "      <td>1</td>\n",
              "    </tr>\n",
              "    <tr>\n",
              "      <th>12</th>\n",
              "      <td>thank demi for defend girl like me who have weight difficulti to integr myself in the societi thank so much love</td>\n",
              "      <td>1</td>\n",
              "    </tr>\n",
              "    <tr>\n",
              "      <th>13</th>\n",
              "      <td>feel bore but still in da good mood</td>\n",
              "      <td>0</td>\n",
              "    </tr>\n",
              "    <tr>\n",
              "      <th>14</th>\n",
              "      <td>yeah lot of peopl are broke one of them should do the same sell all the electron don use</td>\n",
              "      <td>0</td>\n",
              "    </tr>\n",
              "  </tbody>\n",
              "</table>\n",
              "</div>"
            ],
            "text/plain": [
              "                                                                                                    Normalized Text-Logreg  Prediction-Logreg\n",
              "0                amaz mani of thi current quot cabinet quot appear to have believ that our tax system is definit voluntari                  1\n",
              "1                                                                                                shower time be right back                  1\n",
              "2   blast internet is soo slow due to thi storm everyth is take doubl time to load can not seem to access most of the page                  0\n",
              "3                                                                                         well have to go play nice all xx                  1\n",
              "4                                                                          just got home from the movi up wa great so cute                  1\n",
              "5                                                                                                         im gut realli am                  0\n",
              "6                                       in possibl the most shade train station ever with an hour until next train to brum                  1\n",
              "7                                           oh noe her pianist for leaver can not play caus it break her finger are broken                  0\n",
              "8               noth much just tri to get some expo in atl go to school and about to re releas thi ep as an lp how are you                  1\n",
              "9                                                   can not stop listen to all your new song especi more is more am addict                  1\n",
              "10                                                                             all clean and shini last lectur today whoop                  1\n",
              "11                   not look forward work moro but hey week until long weekend bring it bwahaha needless say pretti happi                  1\n",
              "12        thank demi for defend girl like me who have weight difficulti to integr myself in the societi thank so much love                  1\n",
              "13                                                                                     feel bore but still in da good mood                  0\n",
              "14                                yeah lot of peopl are broke one of them should do the same sell all the electron don use                  0"
            ]
          },
          "metadata": {
            "tags": []
          },
          "execution_count": 5
        }
      ]
    },
    {
      "cell_type": "code",
      "metadata": {
        "colab": {
          "base_uri": "https://localhost:8080/"
        },
        "id": "AUFHdYld4TFK",
        "outputId": "688af8c5-72d0-4c25-e72b-4d8de40ecd15"
      },
      "source": [
        "svc = pd.read_csv('v18 y_pred_svc.csv')\n",
        "# see column names\n",
        "print(svc.columns)\n",
        "# Rename column names\n",
        "svc = svc.rename(columns={'normal':'Normalized Text-SVC', 'svc':'Prediction-SVC'})\n",
        "svc.drop(['Unnamed: 0', 'text', 'clean', 'target'], axis=1, inplace=True)\n",
        "svc[:15]"
      ],
      "execution_count": null,
      "outputs": [
        {
          "output_type": "stream",
          "text": [
            "Index(['Unnamed: 0', 'text', 'clean', 'normal', 'target', 'svc'], dtype='object')\n"
          ],
          "name": "stdout"
        },
        {
          "output_type": "execute_result",
          "data": {
            "text/html": [
              "<div>\n",
              "<style scoped>\n",
              "    .dataframe tbody tr th:only-of-type {\n",
              "        vertical-align: middle;\n",
              "    }\n",
              "\n",
              "    .dataframe tbody tr th {\n",
              "        vertical-align: top;\n",
              "    }\n",
              "\n",
              "    .dataframe thead th {\n",
              "        text-align: right;\n",
              "    }\n",
              "</style>\n",
              "<table border=\"1\" class=\"dataframe\">\n",
              "  <thead>\n",
              "    <tr style=\"text-align: right;\">\n",
              "      <th></th>\n",
              "      <th>Normalized Text-SVC</th>\n",
              "      <th>Prediction-SVC</th>\n",
              "    </tr>\n",
              "  </thead>\n",
              "  <tbody>\n",
              "    <tr>\n",
              "      <th>0</th>\n",
              "      <td>amaz current quot cabinet quot appear believ tax definit voluntari</td>\n",
              "      <td>1</td>\n",
              "    </tr>\n",
              "    <tr>\n",
              "      <th>1</th>\n",
              "      <td>shower time right</td>\n",
              "      <td>1</td>\n",
              "    </tr>\n",
              "    <tr>\n",
              "      <th>2</th>\n",
              "      <td>blast internet soooo slow storm take doubl time load access page</td>\n",
              "      <td>0</td>\n",
              "    </tr>\n",
              "    <tr>\n",
              "      <th>3</th>\n",
              "      <td>play nice xxx</td>\n",
              "      <td>1</td>\n",
              "    </tr>\n",
              "    <tr>\n",
              "      <th>4</th>\n",
              "      <td>just got home movi great cute</td>\n",
              "      <td>1</td>\n",
              "    </tr>\n",
              "    <tr>\n",
              "      <th>5</th>\n",
              "      <td>im gut realli</td>\n",
              "      <td>0</td>\n",
              "    </tr>\n",
              "    <tr>\n",
              "      <th>6</th>\n",
              "      <td>possibl shade train station hour until train brum</td>\n",
              "      <td>0</td>\n",
              "    </tr>\n",
              "    <tr>\n",
              "      <th>7</th>\n",
              "      <td>oh no pianist leaver play caus break finger broken</td>\n",
              "      <td>0</td>\n",
              "    </tr>\n",
              "    <tr>\n",
              "      <th>8</th>\n",
              "      <td>just tri expo atl go school releas ep lp</td>\n",
              "      <td>1</td>\n",
              "    </tr>\n",
              "    <tr>\n",
              "      <th>9</th>\n",
              "      <td>stop listen new song especi addict</td>\n",
              "      <td>1</td>\n",
              "    </tr>\n",
              "    <tr>\n",
              "      <th>10</th>\n",
              "      <td>clean shini lectur today whoop</td>\n",
              "      <td>1</td>\n",
              "    </tr>\n",
              "    <tr>\n",
              "      <th>11</th>\n",
              "      <td>look forward work moro hey week long weekend bring bwahaha needl say pretti happi</td>\n",
              "      <td>1</td>\n",
              "    </tr>\n",
              "    <tr>\n",
              "      <th>12</th>\n",
              "      <td>thank demi defend girl like weight difficulti integr societi thank love</td>\n",
              "      <td>1</td>\n",
              "    </tr>\n",
              "    <tr>\n",
              "      <th>13</th>\n",
              "      <td>feel bore da good mood</td>\n",
              "      <td>0</td>\n",
              "    </tr>\n",
              "    <tr>\n",
              "      <th>14</th>\n",
              "      <td>yeah lot peopl broke sell electron don use</td>\n",
              "      <td>0</td>\n",
              "    </tr>\n",
              "  </tbody>\n",
              "</table>\n",
              "</div>"
            ],
            "text/plain": [
              "                                                                  Normalized Text-SVC  Prediction-SVC\n",
              "0                  amaz current quot cabinet quot appear believ tax definit voluntari               1\n",
              "1                                                                   shower time right               1\n",
              "2                    blast internet soooo slow storm take doubl time load access page               0\n",
              "3                                                                       play nice xxx               1\n",
              "4                                                       just got home movi great cute               1\n",
              "5                                                                       im gut realli               0\n",
              "6                                   possibl shade train station hour until train brum               0\n",
              "7                                  oh no pianist leaver play caus break finger broken               0\n",
              "8                                            just tri expo atl go school releas ep lp               1\n",
              "9                                                  stop listen new song especi addict               1\n",
              "10                                                     clean shini lectur today whoop               1\n",
              "11  look forward work moro hey week long weekend bring bwahaha needl say pretti happi               1\n",
              "12            thank demi defend girl like weight difficulti integr societi thank love               1\n",
              "13                                                             feel bore da good mood               0\n",
              "14                                         yeah lot peopl broke sell electron don use               0"
            ]
          },
          "metadata": {
            "tags": []
          },
          "execution_count": 6
        }
      ]
    },
    {
      "cell_type": "code",
      "metadata": {
        "colab": {
          "base_uri": "https://localhost:8080/"
        },
        "id": "Hgdqqhur4Vzs",
        "outputId": "baa64fc3-1f19-4132-f430-22bb393b83a3"
      },
      "source": [
        "text = nb.iloc[:, 0:3].join(logreg.iloc[:,0]).join(svc.iloc[:,0])\n",
        "text[:15]"
      ],
      "execution_count": null,
      "outputs": [
        {
          "output_type": "execute_result",
          "data": {
            "text/html": [
              "<div>\n",
              "<style scoped>\n",
              "    .dataframe tbody tr th:only-of-type {\n",
              "        vertical-align: middle;\n",
              "    }\n",
              "\n",
              "    .dataframe tbody tr th {\n",
              "        vertical-align: top;\n",
              "    }\n",
              "\n",
              "    .dataframe thead th {\n",
              "        text-align: right;\n",
              "    }\n",
              "</style>\n",
              "<table border=\"1\" class=\"dataframe\">\n",
              "  <thead>\n",
              "    <tr style=\"text-align: right;\">\n",
              "      <th></th>\n",
              "      <th>Index</th>\n",
              "      <th>Origianl Text</th>\n",
              "      <th>Normalized Text-NB</th>\n",
              "      <th>Normalized Text-Logreg</th>\n",
              "      <th>Normalized Text-SVC</th>\n",
              "    </tr>\n",
              "  </thead>\n",
              "  <tbody>\n",
              "    <tr>\n",
              "      <th>0</th>\n",
              "      <td>840769</td>\n",
              "      <td>Amazing, many of this current &amp;quot;cabinet&amp;quot; appear to have believed that our Tax system is definitely voluntary</td>\n",
              "      <td>amazing many of this current quot cabinet quot appear to have believed that our tax system is definitely voluntary</td>\n",
              "      <td>amaz mani of thi current quot cabinet quot appear to have believ that our tax system is definit voluntari</td>\n",
              "      <td>amaz current quot cabinet quot appear believ tax definit voluntari</td>\n",
              "    </tr>\n",
              "    <tr>\n",
              "      <th>1</th>\n",
              "      <td>1570248</td>\n",
              "      <td>Shower Times Be Right Back!!</td>\n",
              "      <td>shower times be right back</td>\n",
              "      <td>shower time be right back</td>\n",
              "      <td>shower time right</td>\n",
              "    </tr>\n",
              "    <tr>\n",
              "      <th>2</th>\n",
              "      <td>484798</td>\n",
              "      <td>blasted internet is soooo slow due to this storm, everything is taking double time to load   can't seem to access most of the pages !!!!</td>\n",
              "      <td>blasted internet is soo slow due to this storm everything is taking double time to load cannot seem to access most of the pages</td>\n",
              "      <td>blast internet is soo slow due to thi storm everyth is take doubl time to load can not seem to access most of the page</td>\n",
              "      <td>blast internet soooo slow storm take doubl time load access page</td>\n",
              "    </tr>\n",
              "    <tr>\n",
              "      <th>3</th>\n",
              "      <td>686270</td>\n",
              "      <td>Well I have to go!  play nicely  all xxx</td>\n",
              "      <td>well have to go play nicely all xx</td>\n",
              "      <td>well have to go play nice all xx</td>\n",
              "      <td>play nice xxx</td>\n",
              "    </tr>\n",
              "    <tr>\n",
              "      <th>4</th>\n",
              "      <td>1310453</td>\n",
              "      <td>just got home from the movies. UP was great!, so cute.</td>\n",
              "      <td>just got home from the movies up was great so cute</td>\n",
              "      <td>just got home from the movi up wa great so cute</td>\n",
              "      <td>just got home movi great cute</td>\n",
              "    </tr>\n",
              "    <tr>\n",
              "      <th>5</th>\n",
              "      <td>380811</td>\n",
              "      <td>@mattblissett im gutted really i am!</td>\n",
              "      <td>im gutted really am</td>\n",
              "      <td>im gut realli am</td>\n",
              "      <td>im gut realli</td>\n",
              "    </tr>\n",
              "    <tr>\n",
              "      <th>6</th>\n",
              "      <td>235769</td>\n",
              "      <td>In possible the most shaded train station ever, with an hour untill next train to brum</td>\n",
              "      <td>in possible the most shaded train station ever with an hour untill next train to brum</td>\n",
              "      <td>in possibl the most shade train station ever with an hour until next train to brum</td>\n",
              "      <td>possibl shade train station hour until train brum</td>\n",
              "    </tr>\n",
              "    <tr>\n",
              "      <th>7</th>\n",
              "      <td>574668</td>\n",
              "      <td>oh noes. Her pianist for leavers can't play cause its a break, her fingers are broken!!</td>\n",
              "      <td>oh noes her pianist for leavers cannot play cause its break her fingers are broken</td>\n",
              "      <td>oh noe her pianist for leaver can not play caus it break her finger are broken</td>\n",
              "      <td>oh no pianist leaver play caus break finger broken</td>\n",
              "    </tr>\n",
              "    <tr>\n",
              "      <th>8</th>\n",
              "      <td>1255917</td>\n",
              "      <td>@djtabone Nothing much. Just trying to get some expo in ATL  going to school and about to re-release this EP as an LP. How are you?</td>\n",
              "      <td>nothing much just trying to get some expo in atl going to school and about to re release this ep as an lp how are you</td>\n",
              "      <td>noth much just tri to get some expo in atl go to school and about to re releas thi ep as an lp how are you</td>\n",
              "      <td>just tri expo atl go school releas ep lp</td>\n",
              "    </tr>\n",
              "    <tr>\n",
              "      <th>9</th>\n",
              "      <td>861446</td>\n",
              "      <td>@heidimontag i can't stop listening to all your new songs, especially 'more is more', i'm addicted!</td>\n",
              "      <td>cannot stop listening to all your new songs especially more is more am addicted</td>\n",
              "      <td>can not stop listen to all your new song especi more is more am addict</td>\n",
              "      <td>stop listen new song especi addict</td>\n",
              "    </tr>\n",
              "    <tr>\n",
              "      <th>10</th>\n",
              "      <td>938477</td>\n",
              "      <td>All clean and shiny, last lecture today! Whoop!</td>\n",
              "      <td>all clean and shiny last lecture today whoop</td>\n",
              "      <td>all clean and shini last lectur today whoop</td>\n",
              "      <td>clean shini lectur today whoop</td>\n",
              "    </tr>\n",
              "    <tr>\n",
              "      <th>11</th>\n",
              "      <td>1160505</td>\n",
              "      <td>not looking forward 2 work 2moro but hey a week until long weekend... BRING IT !!!! bwahaha needless 2 say Pretty Happy!!!</td>\n",
              "      <td>not looking forward work moro but hey week until long weekend bring it bwahaha needless say pretty happy</td>\n",
              "      <td>not look forward work moro but hey week until long weekend bring it bwahaha needless say pretti happi</td>\n",
              "      <td>look forward work moro hey week long weekend bring bwahaha needl say pretti happi</td>\n",
              "    </tr>\n",
              "    <tr>\n",
              "      <th>12</th>\n",
              "      <td>1388911</td>\n",
              "      <td>@ddlovato Thanks demi for defending girls like me who have weight difficulties to integrate myself in the society. Thanks so much, love u</td>\n",
              "      <td>thanks demi for defending girls like me who have weight difficulties to integrate myself in the society thanks so much love</td>\n",
              "      <td>thank demi for defend girl like me who have weight difficulti to integr myself in the societi thank so much love</td>\n",
              "      <td>thank demi defend girl like weight difficulti integr societi thank love</td>\n",
              "    </tr>\n",
              "    <tr>\n",
              "      <th>13</th>\n",
              "      <td>1451326</td>\n",
              "      <td>feeling bored, but still in da good mood</td>\n",
              "      <td>feeling bored but still in da good mood</td>\n",
              "      <td>feel bore but still in da good mood</td>\n",
              "      <td>feel bore da good mood</td>\n",
              "    </tr>\n",
              "    <tr>\n",
              "      <th>14</th>\n",
              "      <td>704239</td>\n",
              "      <td>@MissSolis yeah, a lot of people are broke. I'm one of them...  I should do the same. Sell all the electronics I don't use.</td>\n",
              "      <td>yeah lot of people are broke one of them should do the same sell all the electronics don use</td>\n",
              "      <td>yeah lot of peopl are broke one of them should do the same sell all the electron don use</td>\n",
              "      <td>yeah lot peopl broke sell electron don use</td>\n",
              "    </tr>\n",
              "  </tbody>\n",
              "</table>\n",
              "</div>"
            ],
            "text/plain": [
              "      Index  ...                                                                Normalized Text-SVC\n",
              "0    840769  ...                 amaz current quot cabinet quot appear believ tax definit voluntari\n",
              "1   1570248  ...                                                                  shower time right\n",
              "2    484798  ...                   blast internet soooo slow storm take doubl time load access page\n",
              "3    686270  ...                                                                      play nice xxx\n",
              "4   1310453  ...                                                      just got home movi great cute\n",
              "5    380811  ...                                                                      im gut realli\n",
              "6    235769  ...                                  possibl shade train station hour until train brum\n",
              "7    574668  ...                                 oh no pianist leaver play caus break finger broken\n",
              "8   1255917  ...                                           just tri expo atl go school releas ep lp\n",
              "9    861446  ...                                                 stop listen new song especi addict\n",
              "10   938477  ...                                                     clean shini lectur today whoop\n",
              "11  1160505  ...  look forward work moro hey week long weekend bring bwahaha needl say pretti happi\n",
              "12  1388911  ...            thank demi defend girl like weight difficulti integr societi thank love\n",
              "13  1451326  ...                                                             feel bore da good mood\n",
              "14   704239  ...                                         yeah lot peopl broke sell electron don use\n",
              "\n",
              "[15 rows x 5 columns]"
            ]
          },
          "metadata": {
            "tags": []
          },
          "execution_count": 7
        }
      ]
    },
    {
      "cell_type": "code",
      "metadata": {
        "colab": {
          "base_uri": "https://localhost:8080/"
        },
        "id": "qOjicRFmASJa",
        "outputId": "27b8525b-e212-4a44-d3ba-0a23a24ac785"
      },
      "source": [
        "pred = nb.iloc[:, 3:5].join(logreg.iloc[:,1]).join(svc.iloc[:,1])\n",
        "pred[:15]"
      ],
      "execution_count": null,
      "outputs": [
        {
          "output_type": "execute_result",
          "data": {
            "text/html": [
              "<div>\n",
              "<style scoped>\n",
              "    .dataframe tbody tr th:only-of-type {\n",
              "        vertical-align: middle;\n",
              "    }\n",
              "\n",
              "    .dataframe tbody tr th {\n",
              "        vertical-align: top;\n",
              "    }\n",
              "\n",
              "    .dataframe thead th {\n",
              "        text-align: right;\n",
              "    }\n",
              "</style>\n",
              "<table border=\"1\" class=\"dataframe\">\n",
              "  <thead>\n",
              "    <tr style=\"text-align: right;\">\n",
              "      <th></th>\n",
              "      <th>Truth</th>\n",
              "      <th>Prediction-NB</th>\n",
              "      <th>Prediction-Logreg</th>\n",
              "      <th>Prediction-SVC</th>\n",
              "    </tr>\n",
              "  </thead>\n",
              "  <tbody>\n",
              "    <tr>\n",
              "      <th>0</th>\n",
              "      <td>1</td>\n",
              "      <td>1</td>\n",
              "      <td>1</td>\n",
              "      <td>1</td>\n",
              "    </tr>\n",
              "    <tr>\n",
              "      <th>1</th>\n",
              "      <td>1</td>\n",
              "      <td>1</td>\n",
              "      <td>1</td>\n",
              "      <td>1</td>\n",
              "    </tr>\n",
              "    <tr>\n",
              "      <th>2</th>\n",
              "      <td>0</td>\n",
              "      <td>0</td>\n",
              "      <td>0</td>\n",
              "      <td>0</td>\n",
              "    </tr>\n",
              "    <tr>\n",
              "      <th>3</th>\n",
              "      <td>0</td>\n",
              "      <td>1</td>\n",
              "      <td>1</td>\n",
              "      <td>1</td>\n",
              "    </tr>\n",
              "    <tr>\n",
              "      <th>4</th>\n",
              "      <td>1</td>\n",
              "      <td>1</td>\n",
              "      <td>1</td>\n",
              "      <td>1</td>\n",
              "    </tr>\n",
              "    <tr>\n",
              "      <th>5</th>\n",
              "      <td>0</td>\n",
              "      <td>0</td>\n",
              "      <td>0</td>\n",
              "      <td>0</td>\n",
              "    </tr>\n",
              "    <tr>\n",
              "      <th>6</th>\n",
              "      <td>0</td>\n",
              "      <td>0</td>\n",
              "      <td>1</td>\n",
              "      <td>0</td>\n",
              "    </tr>\n",
              "    <tr>\n",
              "      <th>7</th>\n",
              "      <td>0</td>\n",
              "      <td>0</td>\n",
              "      <td>0</td>\n",
              "      <td>0</td>\n",
              "    </tr>\n",
              "    <tr>\n",
              "      <th>8</th>\n",
              "      <td>1</td>\n",
              "      <td>1</td>\n",
              "      <td>1</td>\n",
              "      <td>1</td>\n",
              "    </tr>\n",
              "    <tr>\n",
              "      <th>9</th>\n",
              "      <td>1</td>\n",
              "      <td>1</td>\n",
              "      <td>1</td>\n",
              "      <td>1</td>\n",
              "    </tr>\n",
              "    <tr>\n",
              "      <th>10</th>\n",
              "      <td>1</td>\n",
              "      <td>1</td>\n",
              "      <td>1</td>\n",
              "      <td>1</td>\n",
              "    </tr>\n",
              "    <tr>\n",
              "      <th>11</th>\n",
              "      <td>1</td>\n",
              "      <td>1</td>\n",
              "      <td>1</td>\n",
              "      <td>1</td>\n",
              "    </tr>\n",
              "    <tr>\n",
              "      <th>12</th>\n",
              "      <td>1</td>\n",
              "      <td>1</td>\n",
              "      <td>1</td>\n",
              "      <td>1</td>\n",
              "    </tr>\n",
              "    <tr>\n",
              "      <th>13</th>\n",
              "      <td>1</td>\n",
              "      <td>0</td>\n",
              "      <td>0</td>\n",
              "      <td>0</td>\n",
              "    </tr>\n",
              "    <tr>\n",
              "      <th>14</th>\n",
              "      <td>0</td>\n",
              "      <td>0</td>\n",
              "      <td>0</td>\n",
              "      <td>0</td>\n",
              "    </tr>\n",
              "  </tbody>\n",
              "</table>\n",
              "</div>"
            ],
            "text/plain": [
              "    Truth  Prediction-NB  Prediction-Logreg  Prediction-SVC\n",
              "0       1              1                  1               1\n",
              "1       1              1                  1               1\n",
              "2       0              0                  0               0\n",
              "3       0              1                  1               1\n",
              "4       1              1                  1               1\n",
              "5       0              0                  0               0\n",
              "6       0              0                  1               0\n",
              "7       0              0                  0               0\n",
              "8       1              1                  1               1\n",
              "9       1              1                  1               1\n",
              "10      1              1                  1               1\n",
              "11      1              1                  1               1\n",
              "12      1              1                  1               1\n",
              "13      1              0                  0               0\n",
              "14      0              0                  0               0"
            ]
          },
          "metadata": {
            "tags": []
          },
          "execution_count": 8
        }
      ]
    },
    {
      "cell_type": "code",
      "metadata": {
        "colab": {
          "base_uri": "https://localhost:8080/"
        },
        "id": "106fIYMLBX0J",
        "outputId": "37fafccd-7ded-4781-80d6-6682daf7b6eb"
      },
      "source": [
        "data = text.join(pred)\n",
        "data[:15]"
      ],
      "execution_count": null,
      "outputs": [
        {
          "output_type": "execute_result",
          "data": {
            "text/html": [
              "<div>\n",
              "<style scoped>\n",
              "    .dataframe tbody tr th:only-of-type {\n",
              "        vertical-align: middle;\n",
              "    }\n",
              "\n",
              "    .dataframe tbody tr th {\n",
              "        vertical-align: top;\n",
              "    }\n",
              "\n",
              "    .dataframe thead th {\n",
              "        text-align: right;\n",
              "    }\n",
              "</style>\n",
              "<table border=\"1\" class=\"dataframe\">\n",
              "  <thead>\n",
              "    <tr style=\"text-align: right;\">\n",
              "      <th></th>\n",
              "      <th>Index</th>\n",
              "      <th>Origianl Text</th>\n",
              "      <th>Normalized Text-NB</th>\n",
              "      <th>Normalized Text-Logreg</th>\n",
              "      <th>Normalized Text-SVC</th>\n",
              "      <th>Truth</th>\n",
              "      <th>Prediction-NB</th>\n",
              "      <th>Prediction-Logreg</th>\n",
              "      <th>Prediction-SVC</th>\n",
              "    </tr>\n",
              "  </thead>\n",
              "  <tbody>\n",
              "    <tr>\n",
              "      <th>0</th>\n",
              "      <td>840769</td>\n",
              "      <td>Amazing, many of this current &amp;quot;cabinet&amp;quot; appear to have believed that our Tax system is definitely voluntary</td>\n",
              "      <td>amazing many of this current quot cabinet quot appear to have believed that our tax system is definitely voluntary</td>\n",
              "      <td>amaz mani of thi current quot cabinet quot appear to have believ that our tax system is definit voluntari</td>\n",
              "      <td>amaz current quot cabinet quot appear believ tax definit voluntari</td>\n",
              "      <td>1</td>\n",
              "      <td>1</td>\n",
              "      <td>1</td>\n",
              "      <td>1</td>\n",
              "    </tr>\n",
              "    <tr>\n",
              "      <th>1</th>\n",
              "      <td>1570248</td>\n",
              "      <td>Shower Times Be Right Back!!</td>\n",
              "      <td>shower times be right back</td>\n",
              "      <td>shower time be right back</td>\n",
              "      <td>shower time right</td>\n",
              "      <td>1</td>\n",
              "      <td>1</td>\n",
              "      <td>1</td>\n",
              "      <td>1</td>\n",
              "    </tr>\n",
              "    <tr>\n",
              "      <th>2</th>\n",
              "      <td>484798</td>\n",
              "      <td>blasted internet is soooo slow due to this storm, everything is taking double time to load   can't seem to access most of the pages !!!!</td>\n",
              "      <td>blasted internet is soo slow due to this storm everything is taking double time to load cannot seem to access most of the pages</td>\n",
              "      <td>blast internet is soo slow due to thi storm everyth is take doubl time to load can not seem to access most of the page</td>\n",
              "      <td>blast internet soooo slow storm take doubl time load access page</td>\n",
              "      <td>0</td>\n",
              "      <td>0</td>\n",
              "      <td>0</td>\n",
              "      <td>0</td>\n",
              "    </tr>\n",
              "    <tr>\n",
              "      <th>3</th>\n",
              "      <td>686270</td>\n",
              "      <td>Well I have to go!  play nicely  all xxx</td>\n",
              "      <td>well have to go play nicely all xx</td>\n",
              "      <td>well have to go play nice all xx</td>\n",
              "      <td>play nice xxx</td>\n",
              "      <td>0</td>\n",
              "      <td>1</td>\n",
              "      <td>1</td>\n",
              "      <td>1</td>\n",
              "    </tr>\n",
              "    <tr>\n",
              "      <th>4</th>\n",
              "      <td>1310453</td>\n",
              "      <td>just got home from the movies. UP was great!, so cute.</td>\n",
              "      <td>just got home from the movies up was great so cute</td>\n",
              "      <td>just got home from the movi up wa great so cute</td>\n",
              "      <td>just got home movi great cute</td>\n",
              "      <td>1</td>\n",
              "      <td>1</td>\n",
              "      <td>1</td>\n",
              "      <td>1</td>\n",
              "    </tr>\n",
              "    <tr>\n",
              "      <th>5</th>\n",
              "      <td>380811</td>\n",
              "      <td>@mattblissett im gutted really i am!</td>\n",
              "      <td>im gutted really am</td>\n",
              "      <td>im gut realli am</td>\n",
              "      <td>im gut realli</td>\n",
              "      <td>0</td>\n",
              "      <td>0</td>\n",
              "      <td>0</td>\n",
              "      <td>0</td>\n",
              "    </tr>\n",
              "    <tr>\n",
              "      <th>6</th>\n",
              "      <td>235769</td>\n",
              "      <td>In possible the most shaded train station ever, with an hour untill next train to brum</td>\n",
              "      <td>in possible the most shaded train station ever with an hour untill next train to brum</td>\n",
              "      <td>in possibl the most shade train station ever with an hour until next train to brum</td>\n",
              "      <td>possibl shade train station hour until train brum</td>\n",
              "      <td>0</td>\n",
              "      <td>0</td>\n",
              "      <td>1</td>\n",
              "      <td>0</td>\n",
              "    </tr>\n",
              "    <tr>\n",
              "      <th>7</th>\n",
              "      <td>574668</td>\n",
              "      <td>oh noes. Her pianist for leavers can't play cause its a break, her fingers are broken!!</td>\n",
              "      <td>oh noes her pianist for leavers cannot play cause its break her fingers are broken</td>\n",
              "      <td>oh noe her pianist for leaver can not play caus it break her finger are broken</td>\n",
              "      <td>oh no pianist leaver play caus break finger broken</td>\n",
              "      <td>0</td>\n",
              "      <td>0</td>\n",
              "      <td>0</td>\n",
              "      <td>0</td>\n",
              "    </tr>\n",
              "    <tr>\n",
              "      <th>8</th>\n",
              "      <td>1255917</td>\n",
              "      <td>@djtabone Nothing much. Just trying to get some expo in ATL  going to school and about to re-release this EP as an LP. How are you?</td>\n",
              "      <td>nothing much just trying to get some expo in atl going to school and about to re release this ep as an lp how are you</td>\n",
              "      <td>noth much just tri to get some expo in atl go to school and about to re releas thi ep as an lp how are you</td>\n",
              "      <td>just tri expo atl go school releas ep lp</td>\n",
              "      <td>1</td>\n",
              "      <td>1</td>\n",
              "      <td>1</td>\n",
              "      <td>1</td>\n",
              "    </tr>\n",
              "    <tr>\n",
              "      <th>9</th>\n",
              "      <td>861446</td>\n",
              "      <td>@heidimontag i can't stop listening to all your new songs, especially 'more is more', i'm addicted!</td>\n",
              "      <td>cannot stop listening to all your new songs especially more is more am addicted</td>\n",
              "      <td>can not stop listen to all your new song especi more is more am addict</td>\n",
              "      <td>stop listen new song especi addict</td>\n",
              "      <td>1</td>\n",
              "      <td>1</td>\n",
              "      <td>1</td>\n",
              "      <td>1</td>\n",
              "    </tr>\n",
              "    <tr>\n",
              "      <th>10</th>\n",
              "      <td>938477</td>\n",
              "      <td>All clean and shiny, last lecture today! Whoop!</td>\n",
              "      <td>all clean and shiny last lecture today whoop</td>\n",
              "      <td>all clean and shini last lectur today whoop</td>\n",
              "      <td>clean shini lectur today whoop</td>\n",
              "      <td>1</td>\n",
              "      <td>1</td>\n",
              "      <td>1</td>\n",
              "      <td>1</td>\n",
              "    </tr>\n",
              "    <tr>\n",
              "      <th>11</th>\n",
              "      <td>1160505</td>\n",
              "      <td>not looking forward 2 work 2moro but hey a week until long weekend... BRING IT !!!! bwahaha needless 2 say Pretty Happy!!!</td>\n",
              "      <td>not looking forward work moro but hey week until long weekend bring it bwahaha needless say pretty happy</td>\n",
              "      <td>not look forward work moro but hey week until long weekend bring it bwahaha needless say pretti happi</td>\n",
              "      <td>look forward work moro hey week long weekend bring bwahaha needl say pretti happi</td>\n",
              "      <td>1</td>\n",
              "      <td>1</td>\n",
              "      <td>1</td>\n",
              "      <td>1</td>\n",
              "    </tr>\n",
              "    <tr>\n",
              "      <th>12</th>\n",
              "      <td>1388911</td>\n",
              "      <td>@ddlovato Thanks demi for defending girls like me who have weight difficulties to integrate myself in the society. Thanks so much, love u</td>\n",
              "      <td>thanks demi for defending girls like me who have weight difficulties to integrate myself in the society thanks so much love</td>\n",
              "      <td>thank demi for defend girl like me who have weight difficulti to integr myself in the societi thank so much love</td>\n",
              "      <td>thank demi defend girl like weight difficulti integr societi thank love</td>\n",
              "      <td>1</td>\n",
              "      <td>1</td>\n",
              "      <td>1</td>\n",
              "      <td>1</td>\n",
              "    </tr>\n",
              "    <tr>\n",
              "      <th>13</th>\n",
              "      <td>1451326</td>\n",
              "      <td>feeling bored, but still in da good mood</td>\n",
              "      <td>feeling bored but still in da good mood</td>\n",
              "      <td>feel bore but still in da good mood</td>\n",
              "      <td>feel bore da good mood</td>\n",
              "      <td>1</td>\n",
              "      <td>0</td>\n",
              "      <td>0</td>\n",
              "      <td>0</td>\n",
              "    </tr>\n",
              "    <tr>\n",
              "      <th>14</th>\n",
              "      <td>704239</td>\n",
              "      <td>@MissSolis yeah, a lot of people are broke. I'm one of them...  I should do the same. Sell all the electronics I don't use.</td>\n",
              "      <td>yeah lot of people are broke one of them should do the same sell all the electronics don use</td>\n",
              "      <td>yeah lot of peopl are broke one of them should do the same sell all the electron don use</td>\n",
              "      <td>yeah lot peopl broke sell electron don use</td>\n",
              "      <td>0</td>\n",
              "      <td>0</td>\n",
              "      <td>0</td>\n",
              "      <td>0</td>\n",
              "    </tr>\n",
              "  </tbody>\n",
              "</table>\n",
              "</div>"
            ],
            "text/plain": [
              "      Index  ... Prediction-SVC\n",
              "0    840769  ...              1\n",
              "1   1570248  ...              1\n",
              "2    484798  ...              0\n",
              "3    686270  ...              1\n",
              "4   1310453  ...              1\n",
              "5    380811  ...              0\n",
              "6    235769  ...              0\n",
              "7    574668  ...              0\n",
              "8   1255917  ...              1\n",
              "9    861446  ...              1\n",
              "10   938477  ...              1\n",
              "11  1160505  ...              1\n",
              "12  1388911  ...              1\n",
              "13  1451326  ...              0\n",
              "14   704239  ...              0\n",
              "\n",
              "[15 rows x 9 columns]"
            ]
          },
          "metadata": {
            "tags": []
          },
          "execution_count": 9
        }
      ]
    },
    {
      "cell_type": "markdown",
      "metadata": {
        "id": "TyqPHQ7zCOfA"
      },
      "source": [
        "## Fusion Rules"
      ]
    },
    {
      "cell_type": "code",
      "metadata": {
        "id": "krUk2WIUFqZk"
      },
      "source": [
        "and_rule = (data['Prediction-NB']==1) & (data['Prediction-Logreg']==1) & (data['Prediction-SVC']==1)\n",
        "or_rule = (data['Prediction-NB']==1) | (data['Prediction-Logreg']==1) | (data['Prediction-SVC']==1)\n",
        "majority_rule = ( (data['Prediction-NB']==1) & (data['Prediction-Logreg']==1) ) |  ( (data['Prediction-NB']==1) & (data['Prediction-SVC']==1) ) | ( (data['Prediction-Logreg']==1) & (data['Prediction-SVC']==1) )\n",
        "dominance_nb = (data['Prediction-NB']==1) | ( (data['Prediction-Logreg']==1) & (data['Prediction-SVC']==1) )\n",
        "dominance_logreg = (data['Prediction-Logreg']==1) |  ( (data['Prediction-NB']==1) & (data['Prediction-SVC']==1) )\n",
        "dominance_svc = (data['Prediction-SVC']==1) | ( (data['Prediction-NB']==1) & (data['Prediction-Logreg']==1) ) "
      ],
      "execution_count": null,
      "outputs": []
    },
    {
      "cell_type": "code",
      "metadata": {
        "id": "XRcMFvM_OTn8"
      },
      "source": [
        "data['AND'] = np.where(and_rule, 1, 0)\n",
        "data['OR'] = np.where(or_rule, 1, 0)\n",
        "data['Majority'] = np.where(majority_rule, 1, 0)\n",
        "data['Dominance_NB'] = np.where(dominance_nb, 1, 0)\n",
        "data['Dominance_Logreg'] = np.where(dominance_logreg, 1, 0)\n",
        "data['Dominance_SVC'] = np.where(dominance_svc, 1, 0)"
      ],
      "execution_count": null,
      "outputs": []
    },
    {
      "cell_type": "code",
      "metadata": {
        "colab": {
          "base_uri": "https://localhost:8080/"
        },
        "id": "TI_GOHe1W-Dy",
        "outputId": "f770a760-b481-43ba-fa41-9ba5420bc322"
      },
      "source": [
        "data[:15]"
      ],
      "execution_count": null,
      "outputs": [
        {
          "output_type": "execute_result",
          "data": {
            "text/html": [
              "<div>\n",
              "<style scoped>\n",
              "    .dataframe tbody tr th:only-of-type {\n",
              "        vertical-align: middle;\n",
              "    }\n",
              "\n",
              "    .dataframe tbody tr th {\n",
              "        vertical-align: top;\n",
              "    }\n",
              "\n",
              "    .dataframe thead th {\n",
              "        text-align: right;\n",
              "    }\n",
              "</style>\n",
              "<table border=\"1\" class=\"dataframe\">\n",
              "  <thead>\n",
              "    <tr style=\"text-align: right;\">\n",
              "      <th></th>\n",
              "      <th>Index</th>\n",
              "      <th>Origianl Text</th>\n",
              "      <th>Normalized Text-NB</th>\n",
              "      <th>Normalized Text-Logreg</th>\n",
              "      <th>Normalized Text-SVC</th>\n",
              "      <th>Truth</th>\n",
              "      <th>Prediction-NB</th>\n",
              "      <th>Prediction-Logreg</th>\n",
              "      <th>Prediction-SVC</th>\n",
              "      <th>AND</th>\n",
              "      <th>OR</th>\n",
              "      <th>Majority</th>\n",
              "      <th>Dominance_NB</th>\n",
              "      <th>Dominance_Logreg</th>\n",
              "      <th>Dominance_SVC</th>\n",
              "    </tr>\n",
              "  </thead>\n",
              "  <tbody>\n",
              "    <tr>\n",
              "      <th>0</th>\n",
              "      <td>840769</td>\n",
              "      <td>Amazing, many of this current &amp;quot;cabinet&amp;quot; appear to have believed that our Tax system is definitely voluntary</td>\n",
              "      <td>amazing many of this current quot cabinet quot appear to have believed that our tax system is definitely voluntary</td>\n",
              "      <td>amaz mani of thi current quot cabinet quot appear to have believ that our tax system is definit voluntari</td>\n",
              "      <td>amaz current quot cabinet quot appear believ tax definit voluntari</td>\n",
              "      <td>1</td>\n",
              "      <td>1</td>\n",
              "      <td>1</td>\n",
              "      <td>1</td>\n",
              "      <td>1</td>\n",
              "      <td>1</td>\n",
              "      <td>1</td>\n",
              "      <td>1</td>\n",
              "      <td>1</td>\n",
              "      <td>1</td>\n",
              "    </tr>\n",
              "    <tr>\n",
              "      <th>1</th>\n",
              "      <td>1570248</td>\n",
              "      <td>Shower Times Be Right Back!!</td>\n",
              "      <td>shower times be right back</td>\n",
              "      <td>shower time be right back</td>\n",
              "      <td>shower time right</td>\n",
              "      <td>1</td>\n",
              "      <td>1</td>\n",
              "      <td>1</td>\n",
              "      <td>1</td>\n",
              "      <td>1</td>\n",
              "      <td>1</td>\n",
              "      <td>1</td>\n",
              "      <td>1</td>\n",
              "      <td>1</td>\n",
              "      <td>1</td>\n",
              "    </tr>\n",
              "    <tr>\n",
              "      <th>2</th>\n",
              "      <td>484798</td>\n",
              "      <td>blasted internet is soooo slow due to this storm, everything is taking double time to load   can't seem to access most of the pages !!!!</td>\n",
              "      <td>blasted internet is soo slow due to this storm everything is taking double time to load cannot seem to access most of the pages</td>\n",
              "      <td>blast internet is soo slow due to thi storm everyth is take doubl time to load can not seem to access most of the page</td>\n",
              "      <td>blast internet soooo slow storm take doubl time load access page</td>\n",
              "      <td>0</td>\n",
              "      <td>0</td>\n",
              "      <td>0</td>\n",
              "      <td>0</td>\n",
              "      <td>0</td>\n",
              "      <td>0</td>\n",
              "      <td>0</td>\n",
              "      <td>0</td>\n",
              "      <td>0</td>\n",
              "      <td>0</td>\n",
              "    </tr>\n",
              "    <tr>\n",
              "      <th>3</th>\n",
              "      <td>686270</td>\n",
              "      <td>Well I have to go!  play nicely  all xxx</td>\n",
              "      <td>well have to go play nicely all xx</td>\n",
              "      <td>well have to go play nice all xx</td>\n",
              "      <td>play nice xxx</td>\n",
              "      <td>0</td>\n",
              "      <td>1</td>\n",
              "      <td>1</td>\n",
              "      <td>1</td>\n",
              "      <td>1</td>\n",
              "      <td>1</td>\n",
              "      <td>1</td>\n",
              "      <td>1</td>\n",
              "      <td>1</td>\n",
              "      <td>1</td>\n",
              "    </tr>\n",
              "    <tr>\n",
              "      <th>4</th>\n",
              "      <td>1310453</td>\n",
              "      <td>just got home from the movies. UP was great!, so cute.</td>\n",
              "      <td>just got home from the movies up was great so cute</td>\n",
              "      <td>just got home from the movi up wa great so cute</td>\n",
              "      <td>just got home movi great cute</td>\n",
              "      <td>1</td>\n",
              "      <td>1</td>\n",
              "      <td>1</td>\n",
              "      <td>1</td>\n",
              "      <td>1</td>\n",
              "      <td>1</td>\n",
              "      <td>1</td>\n",
              "      <td>1</td>\n",
              "      <td>1</td>\n",
              "      <td>1</td>\n",
              "    </tr>\n",
              "    <tr>\n",
              "      <th>5</th>\n",
              "      <td>380811</td>\n",
              "      <td>@mattblissett im gutted really i am!</td>\n",
              "      <td>im gutted really am</td>\n",
              "      <td>im gut realli am</td>\n",
              "      <td>im gut realli</td>\n",
              "      <td>0</td>\n",
              "      <td>0</td>\n",
              "      <td>0</td>\n",
              "      <td>0</td>\n",
              "      <td>0</td>\n",
              "      <td>0</td>\n",
              "      <td>0</td>\n",
              "      <td>0</td>\n",
              "      <td>0</td>\n",
              "      <td>0</td>\n",
              "    </tr>\n",
              "    <tr>\n",
              "      <th>6</th>\n",
              "      <td>235769</td>\n",
              "      <td>In possible the most shaded train station ever, with an hour untill next train to brum</td>\n",
              "      <td>in possible the most shaded train station ever with an hour untill next train to brum</td>\n",
              "      <td>in possibl the most shade train station ever with an hour until next train to brum</td>\n",
              "      <td>possibl shade train station hour until train brum</td>\n",
              "      <td>0</td>\n",
              "      <td>0</td>\n",
              "      <td>1</td>\n",
              "      <td>0</td>\n",
              "      <td>0</td>\n",
              "      <td>1</td>\n",
              "      <td>0</td>\n",
              "      <td>0</td>\n",
              "      <td>1</td>\n",
              "      <td>0</td>\n",
              "    </tr>\n",
              "    <tr>\n",
              "      <th>7</th>\n",
              "      <td>574668</td>\n",
              "      <td>oh noes. Her pianist for leavers can't play cause its a break, her fingers are broken!!</td>\n",
              "      <td>oh noes her pianist for leavers cannot play cause its break her fingers are broken</td>\n",
              "      <td>oh noe her pianist for leaver can not play caus it break her finger are broken</td>\n",
              "      <td>oh no pianist leaver play caus break finger broken</td>\n",
              "      <td>0</td>\n",
              "      <td>0</td>\n",
              "      <td>0</td>\n",
              "      <td>0</td>\n",
              "      <td>0</td>\n",
              "      <td>0</td>\n",
              "      <td>0</td>\n",
              "      <td>0</td>\n",
              "      <td>0</td>\n",
              "      <td>0</td>\n",
              "    </tr>\n",
              "    <tr>\n",
              "      <th>8</th>\n",
              "      <td>1255917</td>\n",
              "      <td>@djtabone Nothing much. Just trying to get some expo in ATL  going to school and about to re-release this EP as an LP. How are you?</td>\n",
              "      <td>nothing much just trying to get some expo in atl going to school and about to re release this ep as an lp how are you</td>\n",
              "      <td>noth much just tri to get some expo in atl go to school and about to re releas thi ep as an lp how are you</td>\n",
              "      <td>just tri expo atl go school releas ep lp</td>\n",
              "      <td>1</td>\n",
              "      <td>1</td>\n",
              "      <td>1</td>\n",
              "      <td>1</td>\n",
              "      <td>1</td>\n",
              "      <td>1</td>\n",
              "      <td>1</td>\n",
              "      <td>1</td>\n",
              "      <td>1</td>\n",
              "      <td>1</td>\n",
              "    </tr>\n",
              "    <tr>\n",
              "      <th>9</th>\n",
              "      <td>861446</td>\n",
              "      <td>@heidimontag i can't stop listening to all your new songs, especially 'more is more', i'm addicted!</td>\n",
              "      <td>cannot stop listening to all your new songs especially more is more am addicted</td>\n",
              "      <td>can not stop listen to all your new song especi more is more am addict</td>\n",
              "      <td>stop listen new song especi addict</td>\n",
              "      <td>1</td>\n",
              "      <td>1</td>\n",
              "      <td>1</td>\n",
              "      <td>1</td>\n",
              "      <td>1</td>\n",
              "      <td>1</td>\n",
              "      <td>1</td>\n",
              "      <td>1</td>\n",
              "      <td>1</td>\n",
              "      <td>1</td>\n",
              "    </tr>\n",
              "    <tr>\n",
              "      <th>10</th>\n",
              "      <td>938477</td>\n",
              "      <td>All clean and shiny, last lecture today! Whoop!</td>\n",
              "      <td>all clean and shiny last lecture today whoop</td>\n",
              "      <td>all clean and shini last lectur today whoop</td>\n",
              "      <td>clean shini lectur today whoop</td>\n",
              "      <td>1</td>\n",
              "      <td>1</td>\n",
              "      <td>1</td>\n",
              "      <td>1</td>\n",
              "      <td>1</td>\n",
              "      <td>1</td>\n",
              "      <td>1</td>\n",
              "      <td>1</td>\n",
              "      <td>1</td>\n",
              "      <td>1</td>\n",
              "    </tr>\n",
              "    <tr>\n",
              "      <th>11</th>\n",
              "      <td>1160505</td>\n",
              "      <td>not looking forward 2 work 2moro but hey a week until long weekend... BRING IT !!!! bwahaha needless 2 say Pretty Happy!!!</td>\n",
              "      <td>not looking forward work moro but hey week until long weekend bring it bwahaha needless say pretty happy</td>\n",
              "      <td>not look forward work moro but hey week until long weekend bring it bwahaha needless say pretti happi</td>\n",
              "      <td>look forward work moro hey week long weekend bring bwahaha needl say pretti happi</td>\n",
              "      <td>1</td>\n",
              "      <td>1</td>\n",
              "      <td>1</td>\n",
              "      <td>1</td>\n",
              "      <td>1</td>\n",
              "      <td>1</td>\n",
              "      <td>1</td>\n",
              "      <td>1</td>\n",
              "      <td>1</td>\n",
              "      <td>1</td>\n",
              "    </tr>\n",
              "    <tr>\n",
              "      <th>12</th>\n",
              "      <td>1388911</td>\n",
              "      <td>@ddlovato Thanks demi for defending girls like me who have weight difficulties to integrate myself in the society. Thanks so much, love u</td>\n",
              "      <td>thanks demi for defending girls like me who have weight difficulties to integrate myself in the society thanks so much love</td>\n",
              "      <td>thank demi for defend girl like me who have weight difficulti to integr myself in the societi thank so much love</td>\n",
              "      <td>thank demi defend girl like weight difficulti integr societi thank love</td>\n",
              "      <td>1</td>\n",
              "      <td>1</td>\n",
              "      <td>1</td>\n",
              "      <td>1</td>\n",
              "      <td>1</td>\n",
              "      <td>1</td>\n",
              "      <td>1</td>\n",
              "      <td>1</td>\n",
              "      <td>1</td>\n",
              "      <td>1</td>\n",
              "    </tr>\n",
              "    <tr>\n",
              "      <th>13</th>\n",
              "      <td>1451326</td>\n",
              "      <td>feeling bored, but still in da good mood</td>\n",
              "      <td>feeling bored but still in da good mood</td>\n",
              "      <td>feel bore but still in da good mood</td>\n",
              "      <td>feel bore da good mood</td>\n",
              "      <td>1</td>\n",
              "      <td>0</td>\n",
              "      <td>0</td>\n",
              "      <td>0</td>\n",
              "      <td>0</td>\n",
              "      <td>0</td>\n",
              "      <td>0</td>\n",
              "      <td>0</td>\n",
              "      <td>0</td>\n",
              "      <td>0</td>\n",
              "    </tr>\n",
              "    <tr>\n",
              "      <th>14</th>\n",
              "      <td>704239</td>\n",
              "      <td>@MissSolis yeah, a lot of people are broke. I'm one of them...  I should do the same. Sell all the electronics I don't use.</td>\n",
              "      <td>yeah lot of people are broke one of them should do the same sell all the electronics don use</td>\n",
              "      <td>yeah lot of peopl are broke one of them should do the same sell all the electron don use</td>\n",
              "      <td>yeah lot peopl broke sell electron don use</td>\n",
              "      <td>0</td>\n",
              "      <td>0</td>\n",
              "      <td>0</td>\n",
              "      <td>0</td>\n",
              "      <td>0</td>\n",
              "      <td>0</td>\n",
              "      <td>0</td>\n",
              "      <td>0</td>\n",
              "      <td>0</td>\n",
              "      <td>0</td>\n",
              "    </tr>\n",
              "  </tbody>\n",
              "</table>\n",
              "</div>"
            ],
            "text/plain": [
              "      Index  ... Dominance_SVC\n",
              "0    840769  ...             1\n",
              "1   1570248  ...             1\n",
              "2    484798  ...             0\n",
              "3    686270  ...             1\n",
              "4   1310453  ...             1\n",
              "5    380811  ...             0\n",
              "6    235769  ...             0\n",
              "7    574668  ...             0\n",
              "8   1255917  ...             1\n",
              "9    861446  ...             1\n",
              "10   938477  ...             1\n",
              "11  1160505  ...             1\n",
              "12  1388911  ...             1\n",
              "13  1451326  ...             0\n",
              "14   704239  ...             0\n",
              "\n",
              "[15 rows x 15 columns]"
            ]
          },
          "metadata": {
            "tags": []
          },
          "execution_count": 12
        }
      ]
    },
    {
      "cell_type": "markdown",
      "metadata": {
        "id": "Bn-mWcDsZe70"
      },
      "source": [
        "## Accuracy Results"
      ]
    },
    {
      "cell_type": "code",
      "metadata": {
        "colab": {
          "base_uri": "https://localhost:8080/",
          "height": 1000
        },
        "id": "FTBS-GUoVxAk",
        "outputId": "b88a4c37-54f1-441a-b806-615ca5859b71"
      },
      "source": [
        "# Individual \n",
        "\n",
        "title = 'Naive Bayes'\n",
        "print(classification_report(data['Truth'],data['Prediction-NB'])) \n",
        "fun.plot_confusion_matrix(data['Truth'],data['Prediction-NB'], title, version)\n",
        "\n",
        "title = 'Logistic Regression'\n",
        "print(classification_report(data['Truth'],data['Prediction-Logreg'])) \n",
        "fun.plot_confusion_matrix(data['Truth'],data['Prediction-Logreg'], title, version)\n",
        "\n",
        "title = 'Support Vector Classifier'\n",
        "print(classification_report(data['Truth'],data['Prediction-SVC'])) \n",
        "fun.plot_confusion_matrix(data['Truth'],data['Prediction-SVC'], title, version)\n",
        "\n",
        "# Fusion\n",
        "\n",
        "title = 'AND Rule'\n",
        "print(classification_report(data['Truth'],data['AND'])) \n",
        "fun.plot_confusion_matrix(data['Truth'],data['AND'], title, version)\n",
        "\n",
        "title = 'OR Rule'\n",
        "print(classification_report(data['Truth'],data['OR'])) \n",
        "fun.plot_confusion_matrix(data['Truth'],data['OR'], title, version)\n",
        "\n",
        "title = 'Majority'\n",
        "print(classification_report(data['Truth'],data['Majority'])) \n",
        "fun.plot_confusion_matrix(data['Truth'],data['Majority'], title, version)\n",
        "\n",
        "title = 'Dominance_NB'\n",
        "print(classification_report(data['Truth'],data['Dominance_NB'])) \n",
        "fun.plot_confusion_matrix(data['Truth'],data['Dominance_NB'], title, version)\n",
        "\n",
        "title = 'Dominance_Logreg'\n",
        "print(classification_report(data['Truth'],data['Dominance_Logreg'])) \n",
        "fun.plot_confusion_matrix(data['Truth'],data['Dominance_Logreg'], title, version)\n",
        "\n",
        "title = 'Dominance_SVC'\n",
        "print(classification_report(data['Truth'],data['Dominance_SVC'])) \n",
        "fun.plot_confusion_matrix(data['Truth'],data['Dominance_SVC'], title, version)\n"
      ],
      "execution_count": null,
      "outputs": [
        {
          "output_type": "stream",
          "text": [
            "              precision    recall  f1-score   support\n",
            "\n",
            "           0       0.77      0.80      0.79    160000\n",
            "           1       0.79      0.76      0.78    160000\n",
            "\n",
            "    accuracy                           0.78    320000\n",
            "   macro avg       0.78      0.78      0.78    320000\n",
            "weighted avg       0.78      0.78      0.78    320000\n",
            "\n"
          ],
          "name": "stdout"
        },
        {
          "output_type": "display_data",
          "data": {
            "image/png": "[encoded data removed]",
            "text/plain": [
              "<Figure size 432x288 with 2 Axes>"
            ]
          },
          "metadata": {
            "tags": [],
            "needs_background": "light"
          }
        },
        {
          "output_type": "stream",
          "text": [
            "              precision    recall  f1-score   support\n",
            "\n",
            "           0       0.81      0.79      0.80    160000\n",
            "           1       0.79      0.81      0.80    160000\n",
            "\n",
            "    accuracy                           0.80    320000\n",
            "   macro avg       0.80      0.80      0.80    320000\n",
            "weighted avg       0.80      0.80      0.80    320000\n",
            "\n"
          ],
          "name": "stdout"
        },
        {
          "output_type": "display_data",
          "data": {
            "image/png": "[encoded data removed]",
            "text/plain": [
              "<Figure size 432x288 with 2 Axes>"
            ]
          },
          "metadata": {
            "tags": [],
            "needs_background": "light"
          }
        },
        {
          "output_type": "stream",
          "text": [
            "              precision    recall  f1-score   support\n",
            "\n",
            "           0       0.78      0.74      0.76    160000\n",
            "           1       0.75      0.79      0.77    160000\n",
            "\n",
            "    accuracy                           0.77    320000\n",
            "   macro avg       0.77      0.77      0.77    320000\n",
            "weighted avg       0.77      0.77      0.77    320000\n",
            "\n"
          ],
          "name": "stdout"
        },
        {
          "output_type": "display_data",
          "data": {
            "image/png": "[encoded data removed]",
            "text/plain": [
              "<Figure size 432x288 with 2 Axes>"
            ]
          },
          "metadata": {
            "tags": [],
            "needs_background": "light"
          }
        },
        {
          "output_type": "stream",
          "text": [
            "              precision    recall  f1-score   support\n",
            "\n",
            "           0       0.74      0.87      0.80    160000\n",
            "           1       0.84      0.70      0.76    160000\n",
            "\n",
            "    accuracy                           0.78    320000\n",
            "   macro avg       0.79      0.78      0.78    320000\n",
            "weighted avg       0.79      0.78      0.78    320000\n",
            "\n"
          ],
          "name": "stdout"
        },
        {
          "output_type": "display_data",
          "data": {
            "image/png": "[encoded data removed]",
            "text/plain": [
              "<Figure size 432x288 with 2 Axes>"
            ]
          },
          "metadata": {
            "tags": [],
            "needs_background": "light"
          }
        },
        {
          "output_type": "stream",
          "text": [
            "              precision    recall  f1-score   support\n",
            "\n",
            "           0       0.84      0.67      0.75    160000\n",
            "           1       0.73      0.87      0.79    160000\n",
            "\n",
            "    accuracy                           0.77    320000\n",
            "   macro avg       0.78      0.77      0.77    320000\n",
            "weighted avg       0.78      0.77      0.77    320000\n",
            "\n"
          ],
          "name": "stdout"
        },
        {
          "output_type": "display_data",
          "data": {
            "image/png": "[encoded data removed]",
            "text/plain": [
              "<Figure size 432x288 with 2 Axes>"
            ]
          },
          "metadata": {
            "tags": [],
            "needs_background": "light"
          }
        },
        {
          "output_type": "stream",
          "text": [
            "              precision    recall  f1-score   support\n",
            "\n",
            "           0       0.80      0.79      0.79    160000\n",
            "           1       0.79      0.80      0.80    160000\n",
            "\n",
            "    accuracy                           0.80    320000\n",
            "   macro avg       0.80      0.80      0.80    320000\n",
            "weighted avg       0.80      0.80      0.80    320000\n",
            "\n"
          ],
          "name": "stdout"
        },
        {
          "output_type": "display_data",
          "data": {
            "image/png": "[encoded data removed]",
            "text/plain": [
              "<Figure size 432x288 with 2 Axes>"
            ]
          },
          "metadata": {
            "tags": [],
            "needs_background": "light"
          }
        },
        {
          "output_type": "stream",
          "text": [
            "              precision    recall  f1-score   support\n",
            "\n",
            "           0       0.81      0.77      0.79    160000\n",
            "           1       0.78      0.81      0.80    160000\n",
            "\n",
            "    accuracy                           0.79    320000\n",
            "   macro avg       0.79      0.79      0.79    320000\n",
            "weighted avg       0.79      0.79      0.79    320000\n",
            "\n"
          ],
          "name": "stdout"
        },
        {
          "output_type": "display_data",
          "data": {
            "image/png": "[encoded data removed]",
            "text/plain": [
              "<Figure size 432x288 with 2 Axes>"
            ]
          },
          "metadata": {
            "tags": [],
            "needs_background": "light"
          }
        },
        {
          "output_type": "stream",
          "text": [
            "              precision    recall  f1-score   support\n",
            "\n",
            "           0       0.82      0.77      0.79    160000\n",
            "           1       0.78      0.83      0.80    160000\n",
            "\n",
            "    accuracy                           0.80    320000\n",
            "   macro avg       0.80      0.80      0.80    320000\n",
            "weighted avg       0.80      0.80      0.80    320000\n",
            "\n"
          ],
          "name": "stdout"
        },
        {
          "output_type": "display_data",
          "data": {
            "image/png": "[encoded data removed]",
            "text/plain": [
              "<Figure size 432x288 with 2 Axes>"
            ]
          },
          "metadata": {
            "tags": [],
            "needs_background": "light"
          }
        },
        {
          "output_type": "stream",
          "text": [
            "              precision    recall  f1-score   support\n",
            "\n",
            "           0       0.81      0.72      0.76    160000\n",
            "           1       0.75      0.83      0.79    160000\n",
            "\n",
            "    accuracy                           0.78    320000\n",
            "   macro avg       0.78      0.78      0.77    320000\n",
            "weighted avg       0.78      0.78      0.77    320000\n",
            "\n"
          ],
          "name": "stdout"
        },
        {
          "output_type": "display_data",
          "data": {
            "image/png": "[encoded data removed]",
            "text/plain": [
              "<Figure size 432x288 with 2 Axes>"
            ]
          },
          "metadata": {
            "tags": [],
            "needs_background": "light"
          }
        }
      ]
    },
    {
      "cell_type": "markdown",
      "metadata": {
        "id": "kgzY4EgycGzU"
      },
      "source": [
        "## Saving confusion matrix plot (new), classification report(same as v1), test data with text & predictions (same as v1) to .xlsx and pickle"
      ]
    },
    {
      "cell_type": "code",
      "metadata": {
        "id": "2xR-YAodcGBm",
        "colab": {
          "base_uri": "https://localhost:8080/",
          "height": 1000
        },
        "outputId": "59e60599-3132-42a2-d6a1-d11a258aca5c"
      },
      "source": [
        "# # save cm plot,  classification report is the same in v1 as in v2\n",
        "\n",
        "# title = 'Naive Bayes'\n",
        "# fun.save_classification_report(data['Truth'],data['Prediction-NB'], title, version)\n",
        "# fun.save_confusion_matrix(data['Truth'],data['Prediction-NB'], title, version)\n",
        "\n",
        "# title = 'Logistic Regression'\n",
        "# fun.save_classification_report(data['Truth'],data['Prediction-Logreg'], title, version)\n",
        "# fun.save_confusion_matrix(data['Truth'],data['Prediction-Logreg'], title, version)\n",
        "\n",
        "# title = 'Support Vector Classifier'\n",
        "# fun.save_classification_report(data['Truth'],data['Prediction-SVC'], title, version)\n",
        "# fun.save_confusion_matrix(data['Truth'],data['Prediction-SVC'], title, version)\n",
        "\n",
        "# title = 'AND Rule'\n",
        "# fun.save_classification_report(data['Truth'],data['AND'], title, version)\n",
        "# fun.save_confusion_matrix(data['Truth'],data['AND'], title, version)\n",
        "\n",
        "# title = 'OR Rule'\n",
        "# fun.save_classification_report(data['Truth'],data['OR'], title, version)\n",
        "# fun.save_confusion_matrix(data['Truth'],data['OR'], title, version)\n",
        "\n",
        "# title = 'Majority'\n",
        "# fun.save_classification_report(data['Truth'],data['Majority'], title, version)\n",
        "# fun.save_confusion_matrix(data['Truth'],data['Majority'], title, version)\n",
        "\n",
        "# title = 'Dominance_NB'\n",
        "# fun.save_classification_report(data['Truth'],data['Dominance_NB'], title, version)\n",
        "# fun.save_confusion_matrix(data['Truth'],data['Dominance_NB'], title, version)\n",
        "\n",
        "# title = 'Dominance_Logreg'\n",
        "# fun.save_classification_report(data['Truth'],data['Dominance_Logreg'], title, version)\n",
        "# fun.save_confusion_matrix(data['Truth'],data['Dominance_Logreg'], title, version)\n",
        "\n",
        "# title = 'Dominance_SVC'\n",
        "# fun.save_classification_report(data['Truth'],data['Dominance_SVC'], title, version)\n",
        "# fun.save_confusion_matrix(data['Truth'],data['Dominance_SVC'], title, version)\n",
        "\n",
        "\n",
        "# data with predictions v2 is the same as v1\n",
        "\n",
        "# # # save to .xlsx\n",
        "# data.to_excel(\"v%s data with predictions.xlsx\" %version)\n",
        "\n",
        "# # # save to pickle\n",
        "# pickle.dump(data, open(\"v%s data with predictions.dat\" %version, \"wb\"))\n",
        "\n",
        "# # load pickle file\n",
        "# data = pickle.load(open(\"v%s data with predictions.dat\" %version, \"rb\"))\n"
      ],
      "execution_count": null,
      "outputs": [
        {
          "output_type": "display_data",
          "data": {
            "image/png": "[encoded data removed]",
            "text/plain": [
              "<Figure size 432x288 with 2 Axes>"
            ]
          },
          "metadata": {
            "tags": [],
            "needs_background": "light"
          }
        },
        {
          "output_type": "display_data",
          "data": {
            "image/png": "[encoded data removed]",
            "text/plain": [
              "<Figure size 432x288 with 2 Axes>"
            ]
          },
          "metadata": {
            "tags": [],
            "needs_background": "light"
          }
        },
        {
          "output_type": "display_data",
          "data": {
            "image/png": "[encoded data removed]",
            "text/plain": [
              "<Figure size 432x288 with 2 Axes>"
            ]
          },
          "metadata": {
            "tags": [],
            "needs_background": "light"
          }
        },
        {
          "output_type": "display_data",
          "data": {
            "image/png": "[encoded data removed]",
            "text/plain": [
              "<Figure size 432x288 with 2 Axes>"
            ]
          },
          "metadata": {
            "tags": [],
            "needs_background": "light"
          }
        },
        {
          "output_type": "display_data",
          "data": {
            "image/png": "[encoded data removed]",
            "text/plain": [
              "<Figure size 432x288 with 2 Axes>"
            ]
          },
          "metadata": {
            "tags": [],
            "needs_background": "light"
          }
        },
        {
          "output_type": "display_data",
          "data": {
            "image/png": "[encoded data removed]",
            "text/plain": [
              "<Figure size 432x288 with 2 Axes>"
            ]
          },
          "metadata": {
            "tags": [],
            "needs_background": "light"
          }
        },
        {
          "output_type": "display_data",
          "data": {
            "image/png": "[encoded data removed]",
            "text/plain": [
              "<Figure size 432x288 with 2 Axes>"
            ]
          },
          "metadata": {
            "tags": [],
            "needs_background": "light"
          }
        },
        {
          "output_type": "display_data",
          "data": {
            "image/png": "[encoded data removed]",
            "text/plain": [
              "<Figure size 432x288 with 2 Axes>"
            ]
          },
          "metadata": {
            "tags": [],
            "needs_background": "light"
          }
        },
        {
          "output_type": "display_data",
          "data": {
            "image/png": "[encoded data removed]",
            "text/plain": [
              "<Figure size 432x288 with 2 Axes>"
            ]
          },
          "metadata": {
            "tags": [],
            "needs_background": "light"
          }
        }
      ]
    },
    {
      "cell_type": "markdown",
      "metadata": {
        "id": "y6HiA43lj1Cy"
      },
      "source": [
        "## Accuracy table (from sklearn classification reprot) saved in .xlsx -- same file name with the accuracy report generated from R.  Fail to save the accuracy plot"
      ]
    },
    {
      "cell_type": "code",
      "metadata": {
        "colab": {
          "base_uri": "https://localhost:8080/"
        },
        "id": "F46i7PEdnnYs",
        "outputId": "e70adeb4-e58e-4209-e51d-597dd0168d9a"
      },
      "source": [
        "# load classification report excel spreadsheet\n",
        "title = ['Naive Bayes', 'Logistic Regression', 'Support Vector Classifier', 'AND Rule', 'OR Rule', 'Majority', 'Dominance_NB', 'Dominance_Logreg', 'Dominance_SVC']\n",
        "cr_nb, cr_logreg, cr__svc, cr__and, cr__or, cr_majority, cr__dominance_nb, cr__dominance_logreg, cr__dominance_svc = (pd.read_excel('v%s classification report for %s.xlsx' %(version,ttl)) for ttl in title )\n",
        "\n",
        "# extract the accuracy value (note accuracy is the same accross all columns, pick the first column which is under \"Precision\")\n",
        "class_report = [cr_nb, cr_logreg, cr__svc, cr__and, cr__or, cr_majority, cr__dominance_nb, cr__dominance_logreg, cr__dominance_svc]\n",
        "acc_nb, acc_logreg, acc_svc, acc_and, acc_or, acc_majority, acc_dominance_nb, acc_dominance_logreg, acc_dominance_svc = (cr.iloc[[2], [1]] for cr in class_report)\n",
        "\n",
        "# put the accuracy in an array and reshape as a 1d array (instead of the original 3d)\n",
        "aa = np.array([acc_nb, acc_logreg, acc_svc, acc_and, acc_or, acc_majority, acc_dominance_nb, acc_dominance_logreg, acc_dominance_svc])\n",
        "acc = np.reshape(aa,9)\n",
        "print(acc.shape) # (9,)\n",
        "acc"
      ],
      "execution_count": null,
      "outputs": [
        {
          "output_type": "stream",
          "text": [
            "(9,)\n"
          ],
          "name": "stdout"
        },
        {
          "output_type": "execute_result",
          "data": {
            "text/plain": [
              "array([0.7823375 , 0.80045625, 0.76740312, 0.78260938, 0.77213438,\n",
              "       0.79545312, 0.7907    , 0.79707812, 0.7752625 ])"
            ]
          },
          "metadata": {
            "tags": []
          },
          "execution_count": 12
        }
      ]
    },
    {
      "cell_type": "code",
      "metadata": {
        "colab": {
          "base_uri": "https://localhost:8080/",
          "height": 326
        },
        "id": "T6teWmPq4GE_",
        "outputId": "d9b1414b-219b-455e-82c8-f217d9232016"
      },
      "source": [
        "accuracy_table = pd.DataFrame({'Algorithm': title, 'Accuracy':acc})\n",
        "# save accuracy table to .xlsx\n",
        "accuracy_table.to_excel('v%s accuracy table.xlsx' % version)\n",
        "\n",
        "# # load accuracy table\n",
        "# accuracy_table = pd.read_excel('v%s accuracy table.xlsx' % version)\n",
        "# # drop first column\n",
        "# accuracy_table = accuracy_table.drop(['Unnamed: 0'], axis=1)\n",
        "accuracy_table"
      ],
      "execution_count": null,
      "outputs": [
        {
          "output_type": "execute_result",
          "data": {
            "text/html": [
              "<div>\n",
              "<style scoped>\n",
              "    .dataframe tbody tr th:only-of-type {\n",
              "        vertical-align: middle;\n",
              "    }\n",
              "\n",
              "    .dataframe tbody tr th {\n",
              "        vertical-align: top;\n",
              "    }\n",
              "\n",
              "    .dataframe thead th {\n",
              "        text-align: right;\n",
              "    }\n",
              "</style>\n",
              "<table border=\"1\" class=\"dataframe\">\n",
              "  <thead>\n",
              "    <tr style=\"text-align: right;\">\n",
              "      <th></th>\n",
              "      <th>Algorithm</th>\n",
              "      <th>Accuracy</th>\n",
              "    </tr>\n",
              "  </thead>\n",
              "  <tbody>\n",
              "    <tr>\n",
              "      <th>0</th>\n",
              "      <td>Naive Bayes</td>\n",
              "      <td>0.782338</td>\n",
              "    </tr>\n",
              "    <tr>\n",
              "      <th>1</th>\n",
              "      <td>Logistic Regression</td>\n",
              "      <td>0.800456</td>\n",
              "    </tr>\n",
              "    <tr>\n",
              "      <th>2</th>\n",
              "      <td>Support Vector Classifier</td>\n",
              "      <td>0.767403</td>\n",
              "    </tr>\n",
              "    <tr>\n",
              "      <th>3</th>\n",
              "      <td>AND Rule</td>\n",
              "      <td>0.782609</td>\n",
              "    </tr>\n",
              "    <tr>\n",
              "      <th>4</th>\n",
              "      <td>OR Rule</td>\n",
              "      <td>0.772134</td>\n",
              "    </tr>\n",
              "    <tr>\n",
              "      <th>5</th>\n",
              "      <td>Majority</td>\n",
              "      <td>0.795453</td>\n",
              "    </tr>\n",
              "    <tr>\n",
              "      <th>6</th>\n",
              "      <td>Dominance_NB</td>\n",
              "      <td>0.790700</td>\n",
              "    </tr>\n",
              "    <tr>\n",
              "      <th>7</th>\n",
              "      <td>Dominance_Logreg</td>\n",
              "      <td>0.797078</td>\n",
              "    </tr>\n",
              "    <tr>\n",
              "      <th>8</th>\n",
              "      <td>Dominance_SVC</td>\n",
              "      <td>0.775262</td>\n",
              "    </tr>\n",
              "  </tbody>\n",
              "</table>\n",
              "</div>"
            ],
            "text/plain": [
              "                   Algorithm  Accuracy\n",
              "0                Naive Bayes  0.782338\n",
              "1        Logistic Regression  0.800456\n",
              "2  Support Vector Classifier  0.767403\n",
              "3                   AND Rule  0.782609\n",
              "4                    OR Rule  0.772134\n",
              "5                   Majority  0.795453\n",
              "6               Dominance_NB  0.790700\n",
              "7           Dominance_Logreg  0.797078\n",
              "8              Dominance_SVC  0.775262"
            ]
          },
          "metadata": {
            "tags": []
          },
          "execution_count": 13
        }
      ]
    },
    {
      "cell_type": "code",
      "metadata": {
        "colab": {
          "base_uri": "https://localhost:8080/",
          "height": 301
        },
        "id": "6e8n_7DX6lbT",
        "outputId": "6b00bd2b-59ac-460b-9ebc-938771a9aa5f"
      },
      "source": [
        "accuracy_table.plot.barh(x='Algorithm', y='Accuracy', fontsize=12)\n",
        "plt.title('Accuracy by Algorithm and Fusion Rules', fontdict={'size':16})\n",
        "plt.xlim(0.76,0.82)\n",
        "plt.ylabel('Algorithm', fontdict={'size':14})\n"
      ],
      "execution_count": null,
      "outputs": [
        {
          "output_type": "execute_result",
          "data": {
            "text/plain": [
              "(0.75, 0.85)"
            ]
          },
          "metadata": {
            "tags": []
          },
          "execution_count": 6
        },
        {
          "output_type": "display_data",
          "data": {
            "image/png": "[encoded data removed]",
            "text/plain": [
              "<Figure size 432x288 with 1 Axes>"
            ]
          },
          "metadata": {
            "tags": [],
            "needs_background": "light"
          }
        }
      ]
    },
    {
      "cell_type": "code",
      "metadata": {
        "id": "D5NcaudDrkK1"
      },
      "source": [
        "# try to save plot...\n",
        "from natsort import index_natsorted\n",
        "accuracy_table_sorted = accuracy_table.sort_values(\n",
        "   by=\"Accuracy\",\n",
        "   key=lambda x: np.argsort(index_natsorted(accuracy_table[\"Accuracy\"]))\n",
        ")\n",
        "\n",
        "ax = accuracy_table_sorted.plot.barh(x='Algorithm', y='Accuracy', fontsize=12)\n",
        "plt.title('Predicting %s Accuracy by Algorithm and Fusion Rules' % category, fontdict={'size':16})\n",
        "plt.xlim(0.76,0.82)\n",
        "plt.ylabel('Algorithm', fontdict={'size':14})\n",
        "\n",
        "# saving the plot as a .png image\n",
        "# plt.savefig(\"v%s %s accuracy plot.png\" %(version,category), orientation='landscape')  # didn't save right\n",
        "fig.savefig(\"v%s %s accuracy plot.png\" %(version,category), orientation='landscape', transparent=False, dpi=80, bbox_inches=\"tight\")\n",
        "\n",
        "# https://pandas.pydata.org/pandas-docs/stable/reference/api/pandas.DataFrame.sort_values.html"
      ],
      "execution_count": null,
      "outputs": []
    },
    {
      "cell_type": "code",
      "metadata": {
        "colab": {
          "base_uri": "https://localhost:8080/",
          "height": 286
        },
        "id": "PIkjkK6da-0D",
        "outputId": "1ca60199-d390-48be-877b-8c780f32ccf8"
      },
      "source": [
        "from natsort import index_natsorted\n",
        "accuracy_table_sorted = accuracy_table.sort_values(\n",
        "   by=\"Accuracy\",\n",
        "   key=lambda x: np.argsort(index_natsorted(accuracy_table[\"Accuracy\"]))\n",
        ")\n",
        "\n",
        "accuracy_table_sorted.plot.barh(x='Algorithm', y='Accuracy', fontsize=12)\n",
        "plt.title('Predicting %s Accuracy by Algorithm and Fusion Rules' % category, fontdict={'size':16})\n",
        "plt.xlim(0.76,0.82)\n",
        "plt.ylabel('Algorithm', fontdict={'size':14})\n",
        "\n",
        "# saving the plot as a .png image\n",
        "plt.savefig(\"v%s %s accuracy plot.png\" %(version,category), orientation='landscape')  # didn't save right\n",
        "\n",
        "# https://pandas.pydata.org/pandas-docs/stable/reference/api/pandas.DataFrame.sort_values.html"
      ],
      "execution_count": null,
      "outputs": [
        {
          "output_type": "display_data",
          "data": {
            "image/png": "[encoded data removed]",
            "text/plain": [
              "<Figure size 432x288 with 1 Axes>"
            ]
          },
          "metadata": {
            "tags": [],
            "needs_background": "light"
          }
        }
      ]
    },
    {
      "cell_type": "markdown",
      "metadata": {
        "id": "RTxWKWoG84QH"
      },
      "source": [
        "# **# LOAD TEST DATA**"
      ]
    },
    {
      "cell_type": "code",
      "metadata": {
        "id": "q7efc9-I84QI"
      },
      "source": [
        "# load pickle file\n",
        "data = pickle.load(open(\"v%s data with predictions.dat\" %version, \"rb\"))"
      ],
      "execution_count": null,
      "outputs": []
    },
    {
      "cell_type": "code",
      "metadata": {
        "colab": {
          "base_uri": "https://localhost:8080/"
        },
        "id": "2f3W9JXAxAPa",
        "outputId": "077c290e-bf32-4e31-fdda-13eff5916a5e"
      },
      "source": [
        "data"
      ],
      "execution_count": null,
      "outputs": [
        {
          "output_type": "execute_result",
          "data": {
            "text/html": [
              "<div>\n",
              "<style scoped>\n",
              "    .dataframe tbody tr th:only-of-type {\n",
              "        vertical-align: middle;\n",
              "    }\n",
              "\n",
              "    .dataframe tbody tr th {\n",
              "        vertical-align: top;\n",
              "    }\n",
              "\n",
              "    .dataframe thead th {\n",
              "        text-align: right;\n",
              "    }\n",
              "</style>\n",
              "<table border=\"1\" class=\"dataframe\">\n",
              "  <thead>\n",
              "    <tr style=\"text-align: right;\">\n",
              "      <th></th>\n",
              "      <th>Index</th>\n",
              "      <th>Origianl Text</th>\n",
              "      <th>Normalized Text-NB</th>\n",
              "      <th>Normalized Text-Logreg</th>\n",
              "      <th>Normalized Text-SVC</th>\n",
              "      <th>Truth</th>\n",
              "      <th>Prediction-NB</th>\n",
              "      <th>Prediction-Logreg</th>\n",
              "      <th>Prediction-SVC</th>\n",
              "      <th>AND</th>\n",
              "      <th>OR</th>\n",
              "      <th>Majority</th>\n",
              "      <th>Dominance_NB</th>\n",
              "      <th>Dominance_Logreg</th>\n",
              "      <th>Dominance_SVC</th>\n",
              "    </tr>\n",
              "  </thead>\n",
              "  <tbody>\n",
              "    <tr>\n",
              "      <th>0</th>\n",
              "      <td>840769</td>\n",
              "      <td>Amazing, many of this current &amp;quot;cabinet&amp;qu...</td>\n",
              "      <td>amazing many of this current quot cabinet quot...</td>\n",
              "      <td>amaz mani of thi current quot cabinet quot app...</td>\n",
              "      <td>amaz current quot cabinet quot appear believ t...</td>\n",
              "      <td>1</td>\n",
              "      <td>1</td>\n",
              "      <td>1</td>\n",
              "      <td>1</td>\n",
              "      <td>1</td>\n",
              "      <td>1</td>\n",
              "      <td>1</td>\n",
              "      <td>1</td>\n",
              "      <td>1</td>\n",
              "      <td>1</td>\n",
              "    </tr>\n",
              "    <tr>\n",
              "      <th>1</th>\n",
              "      <td>1570248</td>\n",
              "      <td>Shower Times Be Right Back!!</td>\n",
              "      <td>shower times be right back</td>\n",
              "      <td>shower time be right back</td>\n",
              "      <td>shower time right</td>\n",
              "      <td>1</td>\n",
              "      <td>1</td>\n",
              "      <td>1</td>\n",
              "      <td>1</td>\n",
              "      <td>1</td>\n",
              "      <td>1</td>\n",
              "      <td>1</td>\n",
              "      <td>1</td>\n",
              "      <td>1</td>\n",
              "      <td>1</td>\n",
              "    </tr>\n",
              "    <tr>\n",
              "      <th>2</th>\n",
              "      <td>484798</td>\n",
              "      <td>blasted internet is soooo slow due to this sto...</td>\n",
              "      <td>blasted internet is soo slow due to this storm...</td>\n",
              "      <td>blast internet is soo slow due to thi storm ev...</td>\n",
              "      <td>blast internet soooo slow storm take doubl tim...</td>\n",
              "      <td>0</td>\n",
              "      <td>0</td>\n",
              "      <td>0</td>\n",
              "      <td>0</td>\n",
              "      <td>0</td>\n",
              "      <td>0</td>\n",
              "      <td>0</td>\n",
              "      <td>0</td>\n",
              "      <td>0</td>\n",
              "      <td>0</td>\n",
              "    </tr>\n",
              "    <tr>\n",
              "      <th>3</th>\n",
              "      <td>686270</td>\n",
              "      <td>Well I have to go!  play nicely  all xxx</td>\n",
              "      <td>well have to go play nicely all xx</td>\n",
              "      <td>well have to go play nice all xx</td>\n",
              "      <td>play nice xxx</td>\n",
              "      <td>0</td>\n",
              "      <td>1</td>\n",
              "      <td>1</td>\n",
              "      <td>1</td>\n",
              "      <td>1</td>\n",
              "      <td>1</td>\n",
              "      <td>1</td>\n",
              "      <td>1</td>\n",
              "      <td>1</td>\n",
              "      <td>1</td>\n",
              "    </tr>\n",
              "    <tr>\n",
              "      <th>4</th>\n",
              "      <td>1310453</td>\n",
              "      <td>just got home from the movies. UP was great!, ...</td>\n",
              "      <td>just got home from the movies up was great so ...</td>\n",
              "      <td>just got home from the movi up wa great so cute</td>\n",
              "      <td>just got home movi great cute</td>\n",
              "      <td>1</td>\n",
              "      <td>1</td>\n",
              "      <td>1</td>\n",
              "      <td>1</td>\n",
              "      <td>1</td>\n",
              "      <td>1</td>\n",
              "      <td>1</td>\n",
              "      <td>1</td>\n",
              "      <td>1</td>\n",
              "      <td>1</td>\n",
              "    </tr>\n",
              "    <tr>\n",
              "      <th>...</th>\n",
              "      <td>...</td>\n",
              "      <td>...</td>\n",
              "      <td>...</td>\n",
              "      <td>...</td>\n",
              "      <td>...</td>\n",
              "      <td>...</td>\n",
              "      <td>...</td>\n",
              "      <td>...</td>\n",
              "      <td>...</td>\n",
              "      <td>...</td>\n",
              "      <td>...</td>\n",
              "      <td>...</td>\n",
              "      <td>...</td>\n",
              "      <td>...</td>\n",
              "      <td>...</td>\n",
              "    </tr>\n",
              "    <tr>\n",
              "      <th>319995</th>\n",
              "      <td>385935</td>\n",
              "      <td>Will be glad when I feel better.</td>\n",
              "      <td>will be glad when feel better</td>\n",
              "      <td>will be glad when feel better</td>\n",
              "      <td>glad feel better</td>\n",
              "      <td>0</td>\n",
              "      <td>1</td>\n",
              "      <td>1</td>\n",
              "      <td>1</td>\n",
              "      <td>1</td>\n",
              "      <td>1</td>\n",
              "      <td>1</td>\n",
              "      <td>1</td>\n",
              "      <td>1</td>\n",
              "      <td>1</td>\n",
              "    </tr>\n",
              "    <tr>\n",
              "      <th>319996</th>\n",
              "      <td>483279</td>\n",
              "      <td>my calf muscle is cramping</td>\n",
              "      <td>my calf muscle is cramping</td>\n",
              "      <td>my calf muscl is cramp</td>\n",
              "      <td>calf muscl cramp</td>\n",
              "      <td>0</td>\n",
              "      <td>0</td>\n",
              "      <td>0</td>\n",
              "      <td>0</td>\n",
              "      <td>0</td>\n",
              "      <td>0</td>\n",
              "      <td>0</td>\n",
              "      <td>0</td>\n",
              "      <td>0</td>\n",
              "      <td>0</td>\n",
              "    </tr>\n",
              "    <tr>\n",
              "      <th>319997</th>\n",
              "      <td>537144</td>\n",
              "      <td>@shawnemerriman  aww poor thing. What did you ...</td>\n",
              "      <td>aww poor thing what did you have done take vic...</td>\n",
              "      <td>aww poor thing what did you have done take vic...</td>\n",
              "      <td>aww poor thing did vicodin knock</td>\n",
              "      <td>0</td>\n",
              "      <td>0</td>\n",
              "      <td>0</td>\n",
              "      <td>0</td>\n",
              "      <td>0</td>\n",
              "      <td>0</td>\n",
              "      <td>0</td>\n",
              "      <td>0</td>\n",
              "      <td>0</td>\n",
              "      <td>0</td>\n",
              "    </tr>\n",
              "    <tr>\n",
              "      <th>319998</th>\n",
              "      <td>679612</td>\n",
              "      <td>hopefully going shopping tomorrow. not feeling...</td>\n",
              "      <td>hopefully going shopping tomorrow not feeling ...</td>\n",
              "      <td>hope go shop tomorrow not feel so great tho ha...</td>\n",
              "      <td>hope go shop tomorrow feel great tho sick imag...</td>\n",
              "      <td>0</td>\n",
              "      <td>0</td>\n",
              "      <td>0</td>\n",
              "      <td>0</td>\n",
              "      <td>0</td>\n",
              "      <td>0</td>\n",
              "      <td>0</td>\n",
              "      <td>0</td>\n",
              "      <td>0</td>\n",
              "      <td>0</td>\n",
              "    </tr>\n",
              "    <tr>\n",
              "      <th>319999</th>\n",
              "      <td>1370329</td>\n",
              "      <td>@nicole0415  Friend called me</td>\n",
              "      <td>friend called me</td>\n",
              "      <td>friend call me</td>\n",
              "      <td>friend call</td>\n",
              "      <td>1</td>\n",
              "      <td>0</td>\n",
              "      <td>0</td>\n",
              "      <td>0</td>\n",
              "      <td>0</td>\n",
              "      <td>0</td>\n",
              "      <td>0</td>\n",
              "      <td>0</td>\n",
              "      <td>0</td>\n",
              "      <td>0</td>\n",
              "    </tr>\n",
              "  </tbody>\n",
              "</table>\n",
              "<p>320000 rows × 15 columns</p>\n",
              "</div>"
            ],
            "text/plain": [
              "          Index  ... Dominance_SVC\n",
              "0        840769  ...             1\n",
              "1       1570248  ...             1\n",
              "2        484798  ...             0\n",
              "3        686270  ...             1\n",
              "4       1310453  ...             1\n",
              "...         ...  ...           ...\n",
              "319995   385935  ...             1\n",
              "319996   483279  ...             0\n",
              "319997   537144  ...             0\n",
              "319998   679612  ...             0\n",
              "319999  1370329  ...             0\n",
              "\n",
              "[320000 rows x 15 columns]"
            ]
          },
          "metadata": {
            "tags": []
          },
          "execution_count": 4
        }
      ]
    },
    {
      "cell_type": "markdown",
      "metadata": {
        "id": "qLzIhRRP93z5"
      },
      "source": [
        "# Get confidence interval on accuracy & Youden's Index use Confusion Matrix values\n"
      ]
    },
    {
      "cell_type": "markdown",
      "metadata": {
        "id": "eGKNtUN8stKE"
      },
      "source": [
        "## Make Confusion Matrix table (no version # for R to import) -- saved to .xlsx"
      ]
    },
    {
      "cell_type": "code",
      "metadata": {
        "colab": {
          "base_uri": "https://localhost:8080/",
          "height": 326
        },
        "id": "X9yKK50vxlSZ",
        "outputId": "130aa0fd-ec8d-424a-9bb1-bf58f27c8997"
      },
      "source": [
        "# put all 9 sets of tn, fp, fn, tp in a dataframe then save the dataframe to \n",
        "# .xlsx in an order tp, fp, fn, tn to match up the ThresholdRoc package diagnostic function\n",
        "\n",
        "title = ['Naive Bayes', 'Logistic Regression', 'Support Vector Classifier', 'AND Rule', 'OR Rule', 'Majority', 'Dominance_NB', 'Dominance_Logreg', 'Dominance_SVC']\n",
        "cm = pd.DataFrame(columns=['tn', 'fp', 'fn', 'tp'])\n",
        "pred = [data['Prediction-NB'], data['Prediction-Logreg'], data['Prediction-SVC'],\n",
        "        data['AND'], data['OR'], data['Majority'], \n",
        "        data['Dominance_NB'], data['Dominance_Logreg'], data['Dominance_SVC']]\n",
        "\n",
        "# add new rows to the existing dataframe -- thanks to Lt Col Walkinson!!\n",
        "for prediction in pred:\n",
        "    tn, fp, fn, tp = confusion_matrix(data['Truth'], prediction).ravel()\n",
        "    cm.loc[len(cm.index)] = [tn, fp, fn, tp]\n",
        "\n",
        "# rename the index\n",
        "cm = cm.set_axis(title, axis='index')\n",
        "\n",
        "# switch column order\n",
        "cm = pd.DataFrame(cm, columns=['tp', 'fp', 'fn', 'tn'])\n",
        "\n",
        "# save to .xlsx for import in R finding confidence interval of accuracy\n",
        "cm.to_excel('confusion matrix table.xlsx')\n",
        "\n",
        "# # load confusion matrix table\n",
        "# cm = pd.read_excel('confusion matrix table.xlsx')\n",
        "cm"
      ],
      "execution_count": null,
      "outputs": [
        {
          "output_type": "execute_result",
          "data": {
            "text/html": [
              "<div>\n",
              "<style scoped>\n",
              "    .dataframe tbody tr th:only-of-type {\n",
              "        vertical-align: middle;\n",
              "    }\n",
              "\n",
              "    .dataframe tbody tr th {\n",
              "        vertical-align: top;\n",
              "    }\n",
              "\n",
              "    .dataframe thead th {\n",
              "        text-align: right;\n",
              "    }\n",
              "</style>\n",
              "<table border=\"1\" class=\"dataframe\">\n",
              "  <thead>\n",
              "    <tr style=\"text-align: right;\">\n",
              "      <th></th>\n",
              "      <th>tp</th>\n",
              "      <th>fp</th>\n",
              "      <th>fn</th>\n",
              "      <th>tn</th>\n",
              "    </tr>\n",
              "  </thead>\n",
              "  <tbody>\n",
              "    <tr>\n",
              "      <th>Naive Bayes</th>\n",
              "      <td>122396</td>\n",
              "      <td>32048</td>\n",
              "      <td>37604</td>\n",
              "      <td>127952</td>\n",
              "    </tr>\n",
              "    <tr>\n",
              "      <th>Logistic Regression</th>\n",
              "      <td>130111</td>\n",
              "      <td>33965</td>\n",
              "      <td>29889</td>\n",
              "      <td>126035</td>\n",
              "    </tr>\n",
              "    <tr>\n",
              "      <th>Support Vector Classifier</th>\n",
              "      <td>127168</td>\n",
              "      <td>41599</td>\n",
              "      <td>32832</td>\n",
              "      <td>118401</td>\n",
              "    </tr>\n",
              "    <tr>\n",
              "      <th>AND Rule</th>\n",
              "      <td>111733</td>\n",
              "      <td>21298</td>\n",
              "      <td>48267</td>\n",
              "      <td>138702</td>\n",
              "    </tr>\n",
              "    <tr>\n",
              "      <th>OR Rule</th>\n",
              "      <td>139943</td>\n",
              "      <td>52860</td>\n",
              "      <td>20057</td>\n",
              "      <td>107140</td>\n",
              "    </tr>\n",
              "    <tr>\n",
              "      <th>Majority</th>\n",
              "      <td>127999</td>\n",
              "      <td>33454</td>\n",
              "      <td>32001</td>\n",
              "      <td>126546</td>\n",
              "    </tr>\n",
              "    <tr>\n",
              "      <th>Dominance_NB</th>\n",
              "      <td>130342</td>\n",
              "      <td>37318</td>\n",
              "      <td>29658</td>\n",
              "      <td>122682</td>\n",
              "    </tr>\n",
              "    <tr>\n",
              "      <th>Dominance_Logreg</th>\n",
              "      <td>132340</td>\n",
              "      <td>37275</td>\n",
              "      <td>27660</td>\n",
              "      <td>122725</td>\n",
              "    </tr>\n",
              "    <tr>\n",
              "      <th>Dominance_SVC</th>\n",
              "      <td>133259</td>\n",
              "      <td>45175</td>\n",
              "      <td>26741</td>\n",
              "      <td>114825</td>\n",
              "    </tr>\n",
              "  </tbody>\n",
              "</table>\n",
              "</div>"
            ],
            "text/plain": [
              "                               tp     fp     fn      tn\n",
              "Naive Bayes                122396  32048  37604  127952\n",
              "Logistic Regression        130111  33965  29889  126035\n",
              "Support Vector Classifier  127168  41599  32832  118401\n",
              "AND Rule                   111733  21298  48267  138702\n",
              "OR Rule                    139943  52860  20057  107140\n",
              "Majority                   127999  33454  32001  126546\n",
              "Dominance_NB               130342  37318  29658  122682\n",
              "Dominance_Logreg           132340  37275  27660  122725\n",
              "Dominance_SVC              133259  45175  26741  114825"
            ]
          },
          "metadata": {
            "tags": []
          },
          "execution_count": 5
        }
      ]
    },
    {
      "cell_type": "markdown",
      "metadata": {
        "id": "Cb_YhkpftIja"
      },
      "source": [
        "## Make Youden's Index table -- saved to .xlsx"
      ]
    },
    {
      "cell_type": "markdown",
      "metadata": {
        "id": "iqJlZGFyffh2"
      },
      "source": [
        "### Loading the onput Youden Index tables from R code  -- method \"exact\""
      ]
    },
    {
      "cell_type": "code",
      "metadata": {
        "id": "dfZnvlB_8Fq5"
      },
      "source": [
        "# load ThresohldRoc table excel sheet that has confidence interval for the accuracy and Youden's Index\n",
        "\n",
        "diagnostic_method = 'exact'\n",
        "\n",
        "file_name = [f\"ThresholdRoc_{diagnostic_method}_nb.xlsx\",\n",
        "             f\"ThresholdRoc_{diagnostic_method}_logreg.xlsx\", \n",
        "             f\"ThresholdRoc_{diagnostic_method}_svc.xlsx\", \n",
        "             f\"ThresholdRoc_{diagnostic_method}_and.xlsx\",\n",
        "             f\"ThresholdRoc_{diagnostic_method}_or.xlsx\", \n",
        "             f\"ThresholdRoc_{diagnostic_method}_majority.xlsx\",\n",
        "             f\"ThresholdRoc_{diagnostic_method}_dominance_nb.xlsx\", \n",
        "             f\"ThresholdRoc_{diagnostic_method}_dominance_logreg.xlsx\",\n",
        "             f\"ThresholdRoc_{diagnostic_method}_dominance_svc.xlsx\"]\n",
        "\n",
        "# !!!! didn't specify the diagnostic method in the variable names (to avoid changing the later codes) !!!\n",
        "thresohldRoc_nb =  pd.read_excel(file_name[0])\n",
        "thresohldRoc_logreg = pd.read_excel(file_name[1])\n",
        "thresohldRoc_svc = pd.read_excel(file_name[2])\n",
        "thresohldRoc_and = pd.read_excel(file_name[3])\n",
        "thresohldRoc_or = pd.read_excel(file_name[4])\n",
        "thresohldRoc_majority = pd.read_excel(file_name[5])\n",
        "thresohldRoc_dominance_nb = pd.read_excel(file_name[6])\n",
        "thresohldRoc_dominance_logreg = pd.read_excel(file_name[7])\n",
        "thresohldRoc_dominance_svc = pd.read_excel(file_name[8])"
      ],
      "execution_count": null,
      "outputs": []
    },
    {
      "cell_type": "code",
      "metadata": {
        "colab": {
          "base_uri": "https://localhost:8080/",
          "height": 357
        },
        "id": "n1yp9n4u135f",
        "outputId": "1ec5ac84-5e9f-43c1-9cb1-e7bea6ce0019"
      },
      "source": [
        "thresohldRoc_logreg"
      ],
      "execution_count": null,
      "outputs": [
        {
          "output_type": "execute_result",
          "data": {
            "text/html": [
              "<div>\n",
              "<style scoped>\n",
              "    .dataframe tbody tr th:only-of-type {\n",
              "        vertical-align: middle;\n",
              "    }\n",
              "\n",
              "    .dataframe tbody tr th {\n",
              "        vertical-align: top;\n",
              "    }\n",
              "\n",
              "    .dataframe thead th {\n",
              "        text-align: right;\n",
              "    }\n",
              "</style>\n",
              "<table border=\"1\" class=\"dataframe\">\n",
              "  <thead>\n",
              "    <tr style=\"text-align: right;\">\n",
              "      <th></th>\n",
              "      <th>Unnamed: 0</th>\n",
              "      <th>Estim.</th>\n",
              "      <th>Low.lim.95..</th>\n",
              "      <th>Up.lim.95..</th>\n",
              "    </tr>\n",
              "  </thead>\n",
              "  <tbody>\n",
              "    <tr>\n",
              "      <th>0</th>\n",
              "      <td>Sensitivity</td>\n",
              "      <td>0.8132</td>\n",
              "      <td>0.8113</td>\n",
              "      <td>0.8151</td>\n",
              "    </tr>\n",
              "    <tr>\n",
              "      <th>1</th>\n",
              "      <td>Specificity</td>\n",
              "      <td>0.7877</td>\n",
              "      <td>0.7857</td>\n",
              "      <td>0.7897</td>\n",
              "    </tr>\n",
              "    <tr>\n",
              "      <th>2</th>\n",
              "      <td>Pos.Pred.Val.</td>\n",
              "      <td>0.7930</td>\n",
              "      <td>0.7910</td>\n",
              "      <td>0.7950</td>\n",
              "    </tr>\n",
              "    <tr>\n",
              "      <th>3</th>\n",
              "      <td>Neg.Pred.Val.</td>\n",
              "      <td>0.8083</td>\n",
              "      <td>0.8063</td>\n",
              "      <td>0.8103</td>\n",
              "    </tr>\n",
              "    <tr>\n",
              "      <th>4</th>\n",
              "      <td>LR+</td>\n",
              "      <td>3.8307</td>\n",
              "      <td>3.7937</td>\n",
              "      <td>3.8682</td>\n",
              "    </tr>\n",
              "    <tr>\n",
              "      <th>5</th>\n",
              "      <td>LR-</td>\n",
              "      <td>0.2371</td>\n",
              "      <td>0.2347</td>\n",
              "      <td>0.2397</td>\n",
              "    </tr>\n",
              "    <tr>\n",
              "      <th>6</th>\n",
              "      <td>Odds ratio</td>\n",
              "      <td>16.1533</td>\n",
              "      <td>15.8752</td>\n",
              "      <td>16.4363</td>\n",
              "    </tr>\n",
              "    <tr>\n",
              "      <th>7</th>\n",
              "      <td>Youden index</td>\n",
              "      <td>0.6009</td>\n",
              "      <td>0.5981</td>\n",
              "      <td>0.6037</td>\n",
              "    </tr>\n",
              "    <tr>\n",
              "      <th>8</th>\n",
              "      <td>Accuracy</td>\n",
              "      <td>0.8005</td>\n",
              "      <td>0.7991</td>\n",
              "      <td>0.8018</td>\n",
              "    </tr>\n",
              "    <tr>\n",
              "      <th>9</th>\n",
              "      <td>Error rate</td>\n",
              "      <td>0.1995</td>\n",
              "      <td>0.1982</td>\n",
              "      <td>0.2009</td>\n",
              "    </tr>\n",
              "  </tbody>\n",
              "</table>\n",
              "</div>"
            ],
            "text/plain": [
              "      Unnamed: 0   Estim.  Low.lim.95..  Up.lim.95..\n",
              "0    Sensitivity   0.8132        0.8113       0.8151\n",
              "1    Specificity   0.7877        0.7857       0.7897\n",
              "2  Pos.Pred.Val.   0.7930        0.7910       0.7950\n",
              "3  Neg.Pred.Val.   0.8083        0.8063       0.8103\n",
              "4            LR+   3.8307        3.7937       3.8682\n",
              "5            LR-   0.2371        0.2347       0.2397\n",
              "6     Odds ratio  16.1533       15.8752      16.4363\n",
              "7   Youden index   0.6009        0.5981       0.6037\n",
              "8       Accuracy   0.8005        0.7991       0.8018\n",
              "9     Error rate   0.1995        0.1982       0.2009"
            ]
          },
          "metadata": {
            "tags": []
          },
          "execution_count": 10
        }
      ]
    },
    {
      "cell_type": "markdown",
      "metadata": {
        "id": "WaH2OBbifwHQ"
      },
      "source": [
        "### Make YI table with just the point estimate"
      ]
    },
    {
      "cell_type": "code",
      "metadata": {
        "id": "goJYis_pV3Ei"
      },
      "source": [
        "# extract youden's index from row 7 and column 1\n",
        "thresohldRoc_table = [thresohldRoc_nb, thresohldRoc_logreg,thresohldRoc_svc,thresohldRoc_and,thresohldRoc_or,thresohldRoc_majority,thresohldRoc_dominance_nb,thresohldRoc_dominance_logreg,thresohldRoc_dominance_svc]\n",
        "yi_nb, yi_logreg, yi_svc, yi_and, yi_or, yi_majority, yi_dominance_nb, yi_dominance_logreg, yi_dominance_svc = (tt.iloc[7,1] for tt in thresohldRoc_table)"
      ],
      "execution_count": null,
      "outputs": []
    },
    {
      "cell_type": "code",
      "metadata": {
        "colab": {
          "base_uri": "https://localhost:8080/"
        },
        "id": "V0ygq2UjkwOh",
        "outputId": "bba936f8-22ef-48c9-a9dd-c804df4bf089"
      },
      "source": [
        "# put the YI in an array and reshape as a 1d array (instead of the original 3d)\n",
        "aa = np.array([yi_nb, yi_logreg, yi_svc, yi_and, yi_or, yi_majority, yi_dominance_nb, yi_dominance_logreg, yi_dominance_svc])\n",
        "yi = np.reshape(aa,9)\n",
        "print(yi.shape) # (9,)\n",
        "print(yi)"
      ],
      "execution_count": null,
      "outputs": [
        {
          "output_type": "stream",
          "text": [
            "(9,)\n"
          ],
          "name": "stdout"
        },
        {
          "output_type": "execute_result",
          "data": {
            "text/plain": [
              "array([0.5647, 0.6009, 0.5348, 0.5652, 0.5443, 0.5909, 0.5814, 0.5942,\n",
              "       0.5505])"
            ]
          },
          "metadata": {
            "tags": []
          },
          "execution_count": 13
        }
      ]
    },
    {
      "cell_type": "markdown",
      "metadata": {
        "id": "7vW0KTMCte2f"
      },
      "source": [
        "### Youden's Index table saved to .xlsx"
      ]
    },
    {
      "cell_type": "code",
      "metadata": {
        "colab": {
          "base_uri": "https://localhost:8080/",
          "height": 314
        },
        "id": "jOIxHULHny12",
        "outputId": "94fb0a88-6280-4a81-f255-61e053060dee"
      },
      "source": [
        "title = ['Naive Bayes', 'Logistic Regression', 'Support Vector Classifier', 'AND Rule', 'OR Rule', 'Majority', 'Dominance_NB', 'Dominance_Logreg', 'Dominance_SVC']\n",
        "\n",
        "yi_table = pd.DataFrame({\"Algorithm\": title, \"Youden's Index\":yi})\n",
        "# save table to .xlsx\n",
        "yi_table.to_excel('v%s youden index table.xlsx' % version)\n",
        "\n",
        "# # load yi table\n",
        "# yi_table = pd.read_excel('v%s youden index table.xlsx' % version)\n",
        "# # drop first column\n",
        "# yi_table = yi_table.drop(['Unnamed: 0'], axis=1)\n",
        "yi_table"
      ],
      "execution_count": null,
      "outputs": [
        {
          "output_type": "execute_result",
          "data": {
            "text/html": [
              "<div>\n",
              "<style scoped>\n",
              "    .dataframe tbody tr th:only-of-type {\n",
              "        vertical-align: middle;\n",
              "    }\n",
              "\n",
              "    .dataframe tbody tr th {\n",
              "        vertical-align: top;\n",
              "    }\n",
              "\n",
              "    .dataframe thead th {\n",
              "        text-align: right;\n",
              "    }\n",
              "</style>\n",
              "<table border=\"1\" class=\"dataframe\">\n",
              "  <thead>\n",
              "    <tr style=\"text-align: right;\">\n",
              "      <th></th>\n",
              "      <th>Algorithm</th>\n",
              "      <th>Youden's Index</th>\n",
              "    </tr>\n",
              "  </thead>\n",
              "  <tbody>\n",
              "    <tr>\n",
              "      <th>0</th>\n",
              "      <td>Naive Bayes</td>\n",
              "      <td>0.5647</td>\n",
              "    </tr>\n",
              "    <tr>\n",
              "      <th>1</th>\n",
              "      <td>Logistic Regression</td>\n",
              "      <td>0.6009</td>\n",
              "    </tr>\n",
              "    <tr>\n",
              "      <th>2</th>\n",
              "      <td>Support Vector Classifier</td>\n",
              "      <td>0.5348</td>\n",
              "    </tr>\n",
              "    <tr>\n",
              "      <th>3</th>\n",
              "      <td>AND Rule</td>\n",
              "      <td>0.5652</td>\n",
              "    </tr>\n",
              "    <tr>\n",
              "      <th>4</th>\n",
              "      <td>OR Rule</td>\n",
              "      <td>0.5443</td>\n",
              "    </tr>\n",
              "    <tr>\n",
              "      <th>5</th>\n",
              "      <td>Majority</td>\n",
              "      <td>0.5909</td>\n",
              "    </tr>\n",
              "    <tr>\n",
              "      <th>6</th>\n",
              "      <td>Dominance_NB</td>\n",
              "      <td>0.5814</td>\n",
              "    </tr>\n",
              "    <tr>\n",
              "      <th>7</th>\n",
              "      <td>Dominance_Logreg</td>\n",
              "      <td>0.5942</td>\n",
              "    </tr>\n",
              "    <tr>\n",
              "      <th>8</th>\n",
              "      <td>Dominance_SVC</td>\n",
              "      <td>0.5505</td>\n",
              "    </tr>\n",
              "  </tbody>\n",
              "</table>\n",
              "</div>"
            ],
            "text/plain": [
              "                   Algorithm  Youden's Index\n",
              "0                Naive Bayes          0.5647\n",
              "1        Logistic Regression          0.6009\n",
              "2  Support Vector Classifier          0.5348\n",
              "3                   AND Rule          0.5652\n",
              "4                    OR Rule          0.5443\n",
              "5                   Majority          0.5909\n",
              "6               Dominance_NB          0.5814\n",
              "7           Dominance_Logreg          0.5942\n",
              "8              Dominance_SVC          0.5505"
            ]
          },
          "metadata": {
            "tags": []
          },
          "execution_count": 14
        }
      ]
    },
    {
      "cell_type": "markdown",
      "metadata": {
        "id": "E2NIxMcgtXKi"
      },
      "source": [
        "### Youden's Index plot"
      ]
    },
    {
      "cell_type": "code",
      "metadata": {
        "colab": {
          "base_uri": "https://localhost:8080/",
          "height": 303
        },
        "id": "s-JoME4lo4hU",
        "outputId": "784b0b0b-f146-4cc9-9999-338fe502966a"
      },
      "source": [
        "yi_table.plot.barh(x=\"Algorithm\", y=\"Youden's Index\", fontsize=12)\n",
        "plt.title(\"Youden's Index by Algorithm and Fusion Rules\", fontdict={'size':16})\n",
        "plt.xlim(0.5, 0.65)\n",
        "plt.ylabel('Algorithm', fontdict={'size':14})\n"
      ],
      "execution_count": null,
      "outputs": [
        {
          "output_type": "execute_result",
          "data": {
            "text/plain": [
              "Text(0, 0.5, 'Algorithm')"
            ]
          },
          "metadata": {
            "tags": []
          },
          "execution_count": 15
        },
        {
          "output_type": "display_data",
          "data": {
            "image/png": "[encoded data removed]",
            "text/plain": [
              "<Figure size 432x288 with 1 Axes>"
            ]
          },
          "metadata": {
            "tags": [],
            "needs_background": "light"
          }
        }
      ]
    },
    {
      "cell_type": "code",
      "metadata": {
        "colab": {
          "base_uri": "https://localhost:8080/",
          "height": 303
        },
        "id": "yQFxtqaIphy0",
        "outputId": "16c81ee5-dd1a-482c-c34d-a60bf32970eb"
      },
      "source": [
        "from natsort import index_natsorted\n",
        "yi_table_sorted = yi_table.sort_values(\n",
        "   by=\"Youden's Index\",\n",
        "   key=lambda x: np.argsort(index_natsorted(yi_table[\"Youden's Index\"]))\n",
        ")\n",
        "\n",
        "yi_table_sorted.plot.barh(x=\"Algorithm\", y=\"Youden's Index\", fontsize=12)\n",
        "plt.title(\"Youden's Index by Algorithm and Fusion Rules\", fontdict={'size':16})\n",
        "plt.xlim(0.5, 0.65)\n",
        "plt.ylabel('Algorithm', fontdict={'size':14})\n",
        "\n",
        "# saving the plot as a .png image\n",
        "# plt.savefig(\"v%s accuracy plot.png\" %version, orientation='landscape')  # didn't save right\n",
        "\n",
        "# https://pandas.pydata.org/pandas-docs/stable/reference/api/pandas.DataFrame.sort_values.html"
      ],
      "execution_count": null,
      "outputs": [
        {
          "output_type": "execute_result",
          "data": {
            "text/plain": [
              "Text(0, 0.5, 'Algorithm')"
            ]
          },
          "metadata": {
            "tags": []
          },
          "execution_count": 16
        },
        {
          "output_type": "display_data",
          "data": {
            "image/png": "[encoded data removed]",
            "text/plain": [
              "<Figure size 432x288 with 1 Axes>"
            ]
          },
          "metadata": {
            "tags": [],
            "needs_background": "light"
          }
        }
      ]
    },
    {
      "cell_type": "markdown",
      "metadata": {
        "id": "whl11ZrCbXip"
      },
      "source": [
        "## Youden point estimate and CI\n"
      ]
    },
    {
      "cell_type": "code",
      "metadata": {
        "colab": {
          "base_uri": "https://localhost:8080/",
          "height": 326
        },
        "id": "6kUvEB4jbizb",
        "outputId": "bda71749-8a48-4ef1-c43c-fac18edd2345"
      },
      "source": [
        "# extract youden's index and CI from row 7 and column 1:4\n",
        "\n",
        "thresohldRoc_table = [thresohldRoc_nb, thresohldRoc_logreg,thresohldRoc_svc,thresohldRoc_and,thresohldRoc_or,thresohldRoc_majority,thresohldRoc_dominance_nb,thresohldRoc_dominance_logreg,thresohldRoc_dominance_svc]\n",
        "yi_nb, yi_logreg, yi_svc, yi_and, yi_or, yi_majority, yi_dominance_nb, yi_dominance_logreg, yi_dominance_svc = (tt.iloc[7,1:4] for tt in thresohldRoc_table)\n",
        "\n",
        "# put the YI in an array then in a dataframe \n",
        "yi = np.array([yi_nb, yi_logreg, yi_svc, yi_and, yi_or, yi_majority, yi_dominance_nb, yi_dominance_logreg, yi_dominance_svc])\n",
        "title = ['Naive Bayes', 'Logistic Regression', 'Support Vector Classifier', 'AND Rule', 'OR Rule', 'Majority', 'Dominance_NB', 'Dominance_Logreg', 'Dominance_SVC']\n",
        "yi_table = pd.DataFrame(title, columns=['Algorithm']).join(pd.DataFrame(yi, columns=['YI estimate', 'YI 95% UB', 'YI 95% LB']))\n",
        "\n",
        "# # save table to .xlsx\n",
        "yi_table.to_excel('v%s youden index table.xlsx' % version)\n",
        "yi_table"
      ],
      "execution_count": null,
      "outputs": [
        {
          "output_type": "execute_result",
          "data": {
            "text/html": [
              "<div>\n",
              "<style scoped>\n",
              "    .dataframe tbody tr th:only-of-type {\n",
              "        vertical-align: middle;\n",
              "    }\n",
              "\n",
              "    .dataframe tbody tr th {\n",
              "        vertical-align: top;\n",
              "    }\n",
              "\n",
              "    .dataframe thead th {\n",
              "        text-align: right;\n",
              "    }\n",
              "</style>\n",
              "<table border=\"1\" class=\"dataframe\">\n",
              "  <thead>\n",
              "    <tr style=\"text-align: right;\">\n",
              "      <th></th>\n",
              "      <th>Algorithm</th>\n",
              "      <th>YI estimate</th>\n",
              "      <th>YI 95% UB</th>\n",
              "      <th>YI 95% LB</th>\n",
              "    </tr>\n",
              "  </thead>\n",
              "  <tbody>\n",
              "    <tr>\n",
              "      <th>0</th>\n",
              "      <td>Naive Bayes</td>\n",
              "      <td>0.5647</td>\n",
              "      <td>0.5618</td>\n",
              "      <td>0.5675</td>\n",
              "    </tr>\n",
              "    <tr>\n",
              "      <th>1</th>\n",
              "      <td>Logistic Regression</td>\n",
              "      <td>0.6009</td>\n",
              "      <td>0.5981</td>\n",
              "      <td>0.6037</td>\n",
              "    </tr>\n",
              "    <tr>\n",
              "      <th>2</th>\n",
              "      <td>Support Vector Classifier</td>\n",
              "      <td>0.5348</td>\n",
              "      <td>0.5319</td>\n",
              "      <td>0.5377</td>\n",
              "    </tr>\n",
              "    <tr>\n",
              "      <th>3</th>\n",
              "      <td>AND Rule</td>\n",
              "      <td>0.5652</td>\n",
              "      <td>0.5624</td>\n",
              "      <td>0.568</td>\n",
              "    </tr>\n",
              "    <tr>\n",
              "      <th>4</th>\n",
              "      <td>OR Rule</td>\n",
              "      <td>0.5443</td>\n",
              "      <td>0.5415</td>\n",
              "      <td>0.5471</td>\n",
              "    </tr>\n",
              "    <tr>\n",
              "      <th>5</th>\n",
              "      <td>Majority</td>\n",
              "      <td>0.5909</td>\n",
              "      <td>0.5881</td>\n",
              "      <td>0.5937</td>\n",
              "    </tr>\n",
              "    <tr>\n",
              "      <th>6</th>\n",
              "      <td>Dominance_NB</td>\n",
              "      <td>0.5814</td>\n",
              "      <td>0.5786</td>\n",
              "      <td>0.5842</td>\n",
              "    </tr>\n",
              "    <tr>\n",
              "      <th>7</th>\n",
              "      <td>Dominance_Logreg</td>\n",
              "      <td>0.5942</td>\n",
              "      <td>0.5914</td>\n",
              "      <td>0.5969</td>\n",
              "    </tr>\n",
              "    <tr>\n",
              "      <th>8</th>\n",
              "      <td>Dominance_SVC</td>\n",
              "      <td>0.5505</td>\n",
              "      <td>0.5477</td>\n",
              "      <td>0.5534</td>\n",
              "    </tr>\n",
              "  </tbody>\n",
              "</table>\n",
              "</div>"
            ],
            "text/plain": [
              "                   Algorithm YI estimate YI 95% UB YI 95% LB\n",
              "0                Naive Bayes      0.5647    0.5618    0.5675\n",
              "1        Logistic Regression      0.6009    0.5981    0.6037\n",
              "2  Support Vector Classifier      0.5348    0.5319    0.5377\n",
              "3                   AND Rule      0.5652    0.5624     0.568\n",
              "4                    OR Rule      0.5443    0.5415    0.5471\n",
              "5                   Majority      0.5909    0.5881    0.5937\n",
              "6               Dominance_NB      0.5814    0.5786    0.5842\n",
              "7           Dominance_Logreg      0.5942    0.5914    0.5969\n",
              "8              Dominance_SVC      0.5505    0.5477    0.5534"
            ]
          },
          "metadata": {
            "tags": []
          },
          "execution_count": 14
        }
      ]
    },
    {
      "cell_type": "markdown",
      "metadata": {
        "id": "kdl1SUoAgixF"
      },
      "source": [
        "## Load Youden's Index (pt est + CI) table"
      ]
    },
    {
      "cell_type": "code",
      "metadata": {
        "colab": {
          "base_uri": "https://localhost:8080/",
          "height": 314
        },
        "id": "cl4RwNVwgdI0",
        "outputId": "64a61906-2a8b-48bf-b5b8-6a4f2502a405"
      },
      "source": [
        "# load yi table\n",
        "yi_table = pd.read_excel('v%s youden index table.xlsx' % version)\n",
        "# drop first column\n",
        "yi_table = yi_table.drop(['Unnamed: 0'], axis=1)\n",
        "yi_table"
      ],
      "execution_count": null,
      "outputs": [
        {
          "output_type": "execute_result",
          "data": {
            "text/html": [
              "<div>\n",
              "<style scoped>\n",
              "    .dataframe tbody tr th:only-of-type {\n",
              "        vertical-align: middle;\n",
              "    }\n",
              "\n",
              "    .dataframe tbody tr th {\n",
              "        vertical-align: top;\n",
              "    }\n",
              "\n",
              "    .dataframe thead th {\n",
              "        text-align: right;\n",
              "    }\n",
              "</style>\n",
              "<table border=\"1\" class=\"dataframe\">\n",
              "  <thead>\n",
              "    <tr style=\"text-align: right;\">\n",
              "      <th></th>\n",
              "      <th>Algorithm</th>\n",
              "      <th>YI estimate</th>\n",
              "      <th>YI 95% UB</th>\n",
              "      <th>YI 95% LB</th>\n",
              "    </tr>\n",
              "  </thead>\n",
              "  <tbody>\n",
              "    <tr>\n",
              "      <th>0</th>\n",
              "      <td>Naive Bayes</td>\n",
              "      <td>0.5647</td>\n",
              "      <td>0.5618</td>\n",
              "      <td>0.5675</td>\n",
              "    </tr>\n",
              "    <tr>\n",
              "      <th>1</th>\n",
              "      <td>Logistic Regression</td>\n",
              "      <td>0.6009</td>\n",
              "      <td>0.5981</td>\n",
              "      <td>0.6037</td>\n",
              "    </tr>\n",
              "    <tr>\n",
              "      <th>2</th>\n",
              "      <td>Support Vector Classifier</td>\n",
              "      <td>0.5348</td>\n",
              "      <td>0.5319</td>\n",
              "      <td>0.5377</td>\n",
              "    </tr>\n",
              "    <tr>\n",
              "      <th>3</th>\n",
              "      <td>AND Rule</td>\n",
              "      <td>0.5652</td>\n",
              "      <td>0.5624</td>\n",
              "      <td>0.568</td>\n",
              "    </tr>\n",
              "    <tr>\n",
              "      <th>4</th>\n",
              "      <td>OR Rule</td>\n",
              "      <td>0.5443</td>\n",
              "      <td>0.5415</td>\n",
              "      <td>0.5471</td>\n",
              "    </tr>\n",
              "    <tr>\n",
              "      <th>5</th>\n",
              "      <td>Majority</td>\n",
              "      <td>0.5909</td>\n",
              "      <td>0.5881</td>\n",
              "      <td>0.5937</td>\n",
              "    </tr>\n",
              "    <tr>\n",
              "      <th>6</th>\n",
              "      <td>Dominance_NB</td>\n",
              "      <td>0.5814</td>\n",
              "      <td>0.5786</td>\n",
              "      <td>0.5842</td>\n",
              "    </tr>\n",
              "    <tr>\n",
              "      <th>7</th>\n",
              "      <td>Dominance_Logreg</td>\n",
              "      <td>0.5942</td>\n",
              "      <td>0.5914</td>\n",
              "      <td>0.5969</td>\n",
              "    </tr>\n",
              "    <tr>\n",
              "      <th>8</th>\n",
              "      <td>Dominance_SVC</td>\n",
              "      <td>0.5505</td>\n",
              "      <td>0.5477</td>\n",
              "      <td>0.5534</td>\n",
              "    </tr>\n",
              "  </tbody>\n",
              "</table>\n",
              "</div>"
            ],
            "text/plain": [
              "                   Algorithm YI estimate YI 95% UB YI 95% LB\n",
              "0                Naive Bayes      0.5647    0.5618    0.5675\n",
              "1        Logistic Regression      0.6009    0.5981    0.6037\n",
              "2  Support Vector Classifier      0.5348    0.5319    0.5377\n",
              "3                   AND Rule      0.5652    0.5624     0.568\n",
              "4                    OR Rule      0.5443    0.5415    0.5471\n",
              "5                   Majority      0.5909    0.5881    0.5937\n",
              "6               Dominance_NB      0.5814    0.5786    0.5842\n",
              "7           Dominance_Logreg      0.5942    0.5914    0.5969\n",
              "8              Dominance_SVC      0.5505    0.5477    0.5534"
            ]
          },
          "metadata": {
            "tags": []
          },
          "execution_count": 6
        }
      ]
    },
    {
      "cell_type": "markdown",
      "metadata": {
        "id": "vTvbo2uMhEPK"
      },
      "source": [
        "## Accuracy estimate and CI from R.  Accuracy table (from sklearn classification reprot) saved in .xlsx earlier WILL BE OVERODE here (using the same file name for the accuracy report generated from R.)\n"
      ]
    },
    {
      "cell_type": "code",
      "metadata": {
        "colab": {
          "base_uri": "https://localhost:8080/",
          "height": 326
        },
        "id": "jcuTpUIIhEPL",
        "outputId": "ed164477-76b9-4a38-915e-07b037dc550e"
      },
      "source": [
        "# extract accuracy and CI from row 8 and column 1:4\n",
        "thresohldRoc_table = [thresohldRoc_nb, thresohldRoc_logreg,thresohldRoc_svc,thresohldRoc_and,thresohldRoc_or,thresohldRoc_majority,thresohldRoc_dominance_nb,thresohldRoc_dominance_logreg,thresohldRoc_dominance_svc]\n",
        "acc_nb, acc_logreg, acc_svc, acc_and, acc_or, acc_majority, acc_dominance_nb, acc_dominance_logreg, acc_dominance_svc  = (tt.iloc[8,1:4] for tt in thresohldRoc_table)\n",
        "\n",
        "# put the YI in an array then in a dataframe \n",
        "acc = np.array([acc_nb, acc_logreg, acc_svc, acc_and, acc_or, acc_majority, acc_dominance_nb, acc_dominance_logreg, acc_dominance_svc])\n",
        "title = ['Naive Bayes', 'Logistic Regression', 'Support Vector Classifier', 'AND Rule', 'OR Rule', 'Majority', 'Dominance_NB', 'Dominance_Logreg', 'Dominance_SVC']\n",
        "accuracy_table = pd.DataFrame(title, columns=['Algorithm']).join(pd.DataFrame(acc, columns=['Accuracy Estimate', 'Acc 95% UB', 'Acc 95% LB']))\n",
        "\n",
        "# # save table to .xlsx\n",
        "accuracy_table.to_excel('v%s accuracy table.xlsx' % version)\n",
        "accuracy_table"
      ],
      "execution_count": null,
      "outputs": [
        {
          "output_type": "execute_result",
          "data": {
            "text/html": [
              "<div>\n",
              "<style scoped>\n",
              "    .dataframe tbody tr th:only-of-type {\n",
              "        vertical-align: middle;\n",
              "    }\n",
              "\n",
              "    .dataframe tbody tr th {\n",
              "        vertical-align: top;\n",
              "    }\n",
              "\n",
              "    .dataframe thead th {\n",
              "        text-align: right;\n",
              "    }\n",
              "</style>\n",
              "<table border=\"1\" class=\"dataframe\">\n",
              "  <thead>\n",
              "    <tr style=\"text-align: right;\">\n",
              "      <th></th>\n",
              "      <th>Algorithm</th>\n",
              "      <th>Accuracy Estimate</th>\n",
              "      <th>Acc 95% UB</th>\n",
              "      <th>Acc 95% LB</th>\n",
              "    </tr>\n",
              "  </thead>\n",
              "  <tbody>\n",
              "    <tr>\n",
              "      <th>0</th>\n",
              "      <td>Naive Bayes</td>\n",
              "      <td>0.7823</td>\n",
              "      <td>0.7809</td>\n",
              "      <td>0.7838</td>\n",
              "    </tr>\n",
              "    <tr>\n",
              "      <th>1</th>\n",
              "      <td>Logistic Regression</td>\n",
              "      <td>0.8005</td>\n",
              "      <td>0.7991</td>\n",
              "      <td>0.8018</td>\n",
              "    </tr>\n",
              "    <tr>\n",
              "      <th>2</th>\n",
              "      <td>Support Vector Classifier</td>\n",
              "      <td>0.7674</td>\n",
              "      <td>0.7659</td>\n",
              "      <td>0.7689</td>\n",
              "    </tr>\n",
              "    <tr>\n",
              "      <th>3</th>\n",
              "      <td>AND Rule</td>\n",
              "      <td>0.7826</td>\n",
              "      <td>0.7812</td>\n",
              "      <td>0.784</td>\n",
              "    </tr>\n",
              "    <tr>\n",
              "      <th>4</th>\n",
              "      <td>OR Rule</td>\n",
              "      <td>0.7721</td>\n",
              "      <td>0.7707</td>\n",
              "      <td>0.7736</td>\n",
              "    </tr>\n",
              "    <tr>\n",
              "      <th>5</th>\n",
              "      <td>Majority</td>\n",
              "      <td>0.7955</td>\n",
              "      <td>0.7941</td>\n",
              "      <td>0.7968</td>\n",
              "    </tr>\n",
              "    <tr>\n",
              "      <th>6</th>\n",
              "      <td>Dominance_NB</td>\n",
              "      <td>0.7907</td>\n",
              "      <td>0.7893</td>\n",
              "      <td>0.7921</td>\n",
              "    </tr>\n",
              "    <tr>\n",
              "      <th>7</th>\n",
              "      <td>Dominance_Logreg</td>\n",
              "      <td>0.7971</td>\n",
              "      <td>0.7957</td>\n",
              "      <td>0.7985</td>\n",
              "    </tr>\n",
              "    <tr>\n",
              "      <th>8</th>\n",
              "      <td>Dominance_SVC</td>\n",
              "      <td>0.7753</td>\n",
              "      <td>0.7738</td>\n",
              "      <td>0.7767</td>\n",
              "    </tr>\n",
              "  </tbody>\n",
              "</table>\n",
              "</div>"
            ],
            "text/plain": [
              "                   Algorithm Accuracy Estimate Acc 95% UB Acc 95% LB\n",
              "0                Naive Bayes            0.7823     0.7809     0.7838\n",
              "1        Logistic Regression            0.8005     0.7991     0.8018\n",
              "2  Support Vector Classifier            0.7674     0.7659     0.7689\n",
              "3                   AND Rule            0.7826     0.7812      0.784\n",
              "4                    OR Rule            0.7721     0.7707     0.7736\n",
              "5                   Majority            0.7955     0.7941     0.7968\n",
              "6               Dominance_NB            0.7907     0.7893     0.7921\n",
              "7           Dominance_Logreg            0.7971     0.7957     0.7985\n",
              "8              Dominance_SVC            0.7753     0.7738     0.7767"
            ]
          },
          "metadata": {
            "tags": []
          },
          "execution_count": 15
        }
      ]
    },
    {
      "cell_type": "markdown",
      "metadata": {
        "id": "30r_LkVWiPfq"
      },
      "source": [
        "## Load accuracy (pt est + CI) table"
      ]
    },
    {
      "cell_type": "code",
      "metadata": {
        "colab": {
          "base_uri": "https://localhost:8080/",
          "height": 314
        },
        "id": "sYudXzfpiPfr",
        "outputId": "e4ee550e-aefe-412c-855a-656ef9ac5c6e"
      },
      "source": [
        "# load accuracy table\n",
        "accuracy_table = pd.read_excel('v%s accuracy table.xlsx' % version)\n",
        "# drop first column\n",
        "accuracy_table = accuracy_table.drop(['Unnamed: 0'], axis=1)\n",
        "accuracy_table"
      ],
      "execution_count": null,
      "outputs": [
        {
          "output_type": "execute_result",
          "data": {
            "text/html": [
              "<div>\n",
              "<style scoped>\n",
              "    .dataframe tbody tr th:only-of-type {\n",
              "        vertical-align: middle;\n",
              "    }\n",
              "\n",
              "    .dataframe tbody tr th {\n",
              "        vertical-align: top;\n",
              "    }\n",
              "\n",
              "    .dataframe thead th {\n",
              "        text-align: right;\n",
              "    }\n",
              "</style>\n",
              "<table border=\"1\" class=\"dataframe\">\n",
              "  <thead>\n",
              "    <tr style=\"text-align: right;\">\n",
              "      <th></th>\n",
              "      <th>Algorithm</th>\n",
              "      <th>Accuracy Estimate</th>\n",
              "      <th>Acc 95% UB</th>\n",
              "      <th>Acc 95% LB</th>\n",
              "    </tr>\n",
              "  </thead>\n",
              "  <tbody>\n",
              "    <tr>\n",
              "      <th>0</th>\n",
              "      <td>Naive Bayes</td>\n",
              "      <td>0.7823</td>\n",
              "      <td>0.7809</td>\n",
              "      <td>0.7838</td>\n",
              "    </tr>\n",
              "    <tr>\n",
              "      <th>1</th>\n",
              "      <td>Logistic Regression</td>\n",
              "      <td>0.8005</td>\n",
              "      <td>0.7991</td>\n",
              "      <td>0.8018</td>\n",
              "    </tr>\n",
              "    <tr>\n",
              "      <th>2</th>\n",
              "      <td>Support Vector Classifier</td>\n",
              "      <td>0.7674</td>\n",
              "      <td>0.7659</td>\n",
              "      <td>0.7689</td>\n",
              "    </tr>\n",
              "    <tr>\n",
              "      <th>3</th>\n",
              "      <td>AND Rule</td>\n",
              "      <td>0.7826</td>\n",
              "      <td>0.7812</td>\n",
              "      <td>0.784</td>\n",
              "    </tr>\n",
              "    <tr>\n",
              "      <th>4</th>\n",
              "      <td>OR Rule</td>\n",
              "      <td>0.7721</td>\n",
              "      <td>0.7707</td>\n",
              "      <td>0.7736</td>\n",
              "    </tr>\n",
              "    <tr>\n",
              "      <th>5</th>\n",
              "      <td>Majority</td>\n",
              "      <td>0.7955</td>\n",
              "      <td>0.7941</td>\n",
              "      <td>0.7968</td>\n",
              "    </tr>\n",
              "    <tr>\n",
              "      <th>6</th>\n",
              "      <td>Dominance_NB</td>\n",
              "      <td>0.7907</td>\n",
              "      <td>0.7893</td>\n",
              "      <td>0.7921</td>\n",
              "    </tr>\n",
              "    <tr>\n",
              "      <th>7</th>\n",
              "      <td>Dominance_Logreg</td>\n",
              "      <td>0.7971</td>\n",
              "      <td>0.7957</td>\n",
              "      <td>0.7985</td>\n",
              "    </tr>\n",
              "    <tr>\n",
              "      <th>8</th>\n",
              "      <td>Dominance_SVC</td>\n",
              "      <td>0.7753</td>\n",
              "      <td>0.7738</td>\n",
              "      <td>0.7767</td>\n",
              "    </tr>\n",
              "  </tbody>\n",
              "</table>\n",
              "</div>"
            ],
            "text/plain": [
              "                   Algorithm Accuracy Estimate Acc 95% UB Acc 95% LB\n",
              "0                Naive Bayes            0.7823     0.7809     0.7838\n",
              "1        Logistic Regression            0.8005     0.7991     0.8018\n",
              "2  Support Vector Classifier            0.7674     0.7659     0.7689\n",
              "3                   AND Rule            0.7826     0.7812      0.784\n",
              "4                    OR Rule            0.7721     0.7707     0.7736\n",
              "5                   Majority            0.7955     0.7941     0.7968\n",
              "6               Dominance_NB            0.7907     0.7893     0.7921\n",
              "7           Dominance_Logreg            0.7971     0.7957     0.7985\n",
              "8              Dominance_SVC            0.7753     0.7738     0.7767"
            ]
          },
          "metadata": {
            "tags": []
          },
          "execution_count": 8
        }
      ]
    },
    {
      "cell_type": "markdown",
      "metadata": {
        "id": "B2Bn1F-2t0q4"
      },
      "source": [
        "# Load tables: accuracy table, confusion matrix table, Youden's Index table"
      ]
    },
    {
      "cell_type": "code",
      "metadata": {
        "id": "zbv_7Vih4yOY"
      },
      "source": [
        "# load accuracy table\n",
        "accuracy_table = pd.read_excel('v%s accuracy table.xlsx' % version)\n",
        "# drop first column\n",
        "accuracy_table = accuracy_table.drop(['Unnamed: 0'], axis=1)\n",
        "\n",
        "# load confusion matrix table\n",
        "cm = pd.read_excel('confusion matrix table.xlsx')\n",
        "\n",
        "# load yi table\n",
        "yi_table = pd.read_excel('v%s youden index table.xlsx' % version)\n",
        "# # drop first column\n",
        "yi_table = yi_table.drop(['Unnamed: 0'], axis=1)\n"
      ],
      "execution_count": null,
      "outputs": []
    },
    {
      "cell_type": "code",
      "metadata": {
        "colab": {
          "base_uri": "https://localhost:8080/",
          "height": 326
        },
        "id": "Oe1Be9Lb6u4g",
        "outputId": "9b991639-9f5c-4a7d-909d-d436b59b5c17"
      },
      "source": [
        "accuracy_table"
      ],
      "execution_count": null,
      "outputs": [
        {
          "output_type": "execute_result",
          "data": {
            "text/html": [
              "<div>\n",
              "<style scoped>\n",
              "    .dataframe tbody tr th:only-of-type {\n",
              "        vertical-align: middle;\n",
              "    }\n",
              "\n",
              "    .dataframe tbody tr th {\n",
              "        vertical-align: top;\n",
              "    }\n",
              "\n",
              "    .dataframe thead th {\n",
              "        text-align: right;\n",
              "    }\n",
              "</style>\n",
              "<table border=\"1\" class=\"dataframe\">\n",
              "  <thead>\n",
              "    <tr style=\"text-align: right;\">\n",
              "      <th></th>\n",
              "      <th>Algorithm</th>\n",
              "      <th>Accuracy Estimate</th>\n",
              "      <th>Acc 95% UB</th>\n",
              "      <th>Acc 95% LB</th>\n",
              "    </tr>\n",
              "  </thead>\n",
              "  <tbody>\n",
              "    <tr>\n",
              "      <th>0</th>\n",
              "      <td>Naive Bayes</td>\n",
              "      <td>0.7823</td>\n",
              "      <td>0.7809</td>\n",
              "      <td>0.7838</td>\n",
              "    </tr>\n",
              "    <tr>\n",
              "      <th>1</th>\n",
              "      <td>Logistic Regression</td>\n",
              "      <td>0.8005</td>\n",
              "      <td>0.7991</td>\n",
              "      <td>0.8018</td>\n",
              "    </tr>\n",
              "    <tr>\n",
              "      <th>2</th>\n",
              "      <td>Support Vector Classifier</td>\n",
              "      <td>0.7674</td>\n",
              "      <td>0.7659</td>\n",
              "      <td>0.7689</td>\n",
              "    </tr>\n",
              "    <tr>\n",
              "      <th>3</th>\n",
              "      <td>AND Rule</td>\n",
              "      <td>0.7826</td>\n",
              "      <td>0.7812</td>\n",
              "      <td>0.7840</td>\n",
              "    </tr>\n",
              "    <tr>\n",
              "      <th>4</th>\n",
              "      <td>OR Rule</td>\n",
              "      <td>0.7721</td>\n",
              "      <td>0.7707</td>\n",
              "      <td>0.7736</td>\n",
              "    </tr>\n",
              "    <tr>\n",
              "      <th>5</th>\n",
              "      <td>Majority</td>\n",
              "      <td>0.7955</td>\n",
              "      <td>0.7941</td>\n",
              "      <td>0.7968</td>\n",
              "    </tr>\n",
              "    <tr>\n",
              "      <th>6</th>\n",
              "      <td>Dominance_NB</td>\n",
              "      <td>0.7907</td>\n",
              "      <td>0.7893</td>\n",
              "      <td>0.7921</td>\n",
              "    </tr>\n",
              "    <tr>\n",
              "      <th>7</th>\n",
              "      <td>Dominance_Logreg</td>\n",
              "      <td>0.7971</td>\n",
              "      <td>0.7957</td>\n",
              "      <td>0.7985</td>\n",
              "    </tr>\n",
              "    <tr>\n",
              "      <th>8</th>\n",
              "      <td>Dominance_SVC</td>\n",
              "      <td>0.7753</td>\n",
              "      <td>0.7738</td>\n",
              "      <td>0.7767</td>\n",
              "    </tr>\n",
              "  </tbody>\n",
              "</table>\n",
              "</div>"
            ],
            "text/plain": [
              "                   Algorithm  Accuracy Estimate  Acc 95% UB  Acc 95% LB\n",
              "0                Naive Bayes             0.7823      0.7809      0.7838\n",
              "1        Logistic Regression             0.8005      0.7991      0.8018\n",
              "2  Support Vector Classifier             0.7674      0.7659      0.7689\n",
              "3                   AND Rule             0.7826      0.7812      0.7840\n",
              "4                    OR Rule             0.7721      0.7707      0.7736\n",
              "5                   Majority             0.7955      0.7941      0.7968\n",
              "6               Dominance_NB             0.7907      0.7893      0.7921\n",
              "7           Dominance_Logreg             0.7971      0.7957      0.7985\n",
              "8              Dominance_SVC             0.7753      0.7738      0.7767"
            ]
          },
          "metadata": {
            "tags": []
          },
          "execution_count": 18
        }
      ]
    },
    {
      "cell_type": "code",
      "metadata": {
        "colab": {
          "base_uri": "https://localhost:8080/",
          "height": 326
        },
        "id": "ByBh0B8MuoA-",
        "outputId": "acfb412e-2dcb-48c4-b5db-c92fb2e37aa4"
      },
      "source": [
        "cm"
      ],
      "execution_count": null,
      "outputs": [
        {
          "output_type": "execute_result",
          "data": {
            "text/html": [
              "<div>\n",
              "<style scoped>\n",
              "    .dataframe tbody tr th:only-of-type {\n",
              "        vertical-align: middle;\n",
              "    }\n",
              "\n",
              "    .dataframe tbody tr th {\n",
              "        vertical-align: top;\n",
              "    }\n",
              "\n",
              "    .dataframe thead th {\n",
              "        text-align: right;\n",
              "    }\n",
              "</style>\n",
              "<table border=\"1\" class=\"dataframe\">\n",
              "  <thead>\n",
              "    <tr style=\"text-align: right;\">\n",
              "      <th></th>\n",
              "      <th>Unnamed: 0</th>\n",
              "      <th>tp</th>\n",
              "      <th>fp</th>\n",
              "      <th>fn</th>\n",
              "      <th>tn</th>\n",
              "    </tr>\n",
              "  </thead>\n",
              "  <tbody>\n",
              "    <tr>\n",
              "      <th>0</th>\n",
              "      <td>Naive Bayes</td>\n",
              "      <td>122396</td>\n",
              "      <td>32048</td>\n",
              "      <td>37604</td>\n",
              "      <td>127952</td>\n",
              "    </tr>\n",
              "    <tr>\n",
              "      <th>1</th>\n",
              "      <td>Logistic Regression</td>\n",
              "      <td>130111</td>\n",
              "      <td>33965</td>\n",
              "      <td>29889</td>\n",
              "      <td>126035</td>\n",
              "    </tr>\n",
              "    <tr>\n",
              "      <th>2</th>\n",
              "      <td>Support Vector Classifier</td>\n",
              "      <td>127168</td>\n",
              "      <td>41599</td>\n",
              "      <td>32832</td>\n",
              "      <td>118401</td>\n",
              "    </tr>\n",
              "    <tr>\n",
              "      <th>3</th>\n",
              "      <td>AND Rule</td>\n",
              "      <td>111733</td>\n",
              "      <td>21298</td>\n",
              "      <td>48267</td>\n",
              "      <td>138702</td>\n",
              "    </tr>\n",
              "    <tr>\n",
              "      <th>4</th>\n",
              "      <td>OR Rule</td>\n",
              "      <td>139943</td>\n",
              "      <td>52860</td>\n",
              "      <td>20057</td>\n",
              "      <td>107140</td>\n",
              "    </tr>\n",
              "    <tr>\n",
              "      <th>5</th>\n",
              "      <td>Majority</td>\n",
              "      <td>127999</td>\n",
              "      <td>33454</td>\n",
              "      <td>32001</td>\n",
              "      <td>126546</td>\n",
              "    </tr>\n",
              "    <tr>\n",
              "      <th>6</th>\n",
              "      <td>Dominance_NB</td>\n",
              "      <td>130342</td>\n",
              "      <td>37318</td>\n",
              "      <td>29658</td>\n",
              "      <td>122682</td>\n",
              "    </tr>\n",
              "    <tr>\n",
              "      <th>7</th>\n",
              "      <td>Dominance_Logreg</td>\n",
              "      <td>132340</td>\n",
              "      <td>37275</td>\n",
              "      <td>27660</td>\n",
              "      <td>122725</td>\n",
              "    </tr>\n",
              "    <tr>\n",
              "      <th>8</th>\n",
              "      <td>Dominance_SVC</td>\n",
              "      <td>133259</td>\n",
              "      <td>45175</td>\n",
              "      <td>26741</td>\n",
              "      <td>114825</td>\n",
              "    </tr>\n",
              "  </tbody>\n",
              "</table>\n",
              "</div>"
            ],
            "text/plain": [
              "                  Unnamed: 0      tp     fp     fn      tn\n",
              "0                Naive Bayes  122396  32048  37604  127952\n",
              "1        Logistic Regression  130111  33965  29889  126035\n",
              "2  Support Vector Classifier  127168  41599  32832  118401\n",
              "3                   AND Rule  111733  21298  48267  138702\n",
              "4                    OR Rule  139943  52860  20057  107140\n",
              "5                   Majority  127999  33454  32001  126546\n",
              "6               Dominance_NB  130342  37318  29658  122682\n",
              "7           Dominance_Logreg  132340  37275  27660  122725\n",
              "8              Dominance_SVC  133259  45175  26741  114825"
            ]
          },
          "metadata": {
            "tags": []
          },
          "execution_count": 19
        }
      ]
    },
    {
      "cell_type": "code",
      "metadata": {
        "colab": {
          "base_uri": "https://localhost:8080/",
          "height": 326
        },
        "id": "xj2ZgeoEu0Qt",
        "outputId": "740947de-c15a-4b04-ca8b-3663406a878a"
      },
      "source": [
        "yi_table"
      ],
      "execution_count": null,
      "outputs": [
        {
          "output_type": "execute_result",
          "data": {
            "text/html": [
              "<div>\n",
              "<style scoped>\n",
              "    .dataframe tbody tr th:only-of-type {\n",
              "        vertical-align: middle;\n",
              "    }\n",
              "\n",
              "    .dataframe tbody tr th {\n",
              "        vertical-align: top;\n",
              "    }\n",
              "\n",
              "    .dataframe thead th {\n",
              "        text-align: right;\n",
              "    }\n",
              "</style>\n",
              "<table border=\"1\" class=\"dataframe\">\n",
              "  <thead>\n",
              "    <tr style=\"text-align: right;\">\n",
              "      <th></th>\n",
              "      <th>Algorithm</th>\n",
              "      <th>YI estimate</th>\n",
              "      <th>YI 95% UB</th>\n",
              "      <th>YI 95% LB</th>\n",
              "    </tr>\n",
              "  </thead>\n",
              "  <tbody>\n",
              "    <tr>\n",
              "      <th>0</th>\n",
              "      <td>Naive Bayes</td>\n",
              "      <td>0.5647</td>\n",
              "      <td>0.5618</td>\n",
              "      <td>0.5675</td>\n",
              "    </tr>\n",
              "    <tr>\n",
              "      <th>1</th>\n",
              "      <td>Logistic Regression</td>\n",
              "      <td>0.6009</td>\n",
              "      <td>0.5981</td>\n",
              "      <td>0.6037</td>\n",
              "    </tr>\n",
              "    <tr>\n",
              "      <th>2</th>\n",
              "      <td>Support Vector Classifier</td>\n",
              "      <td>0.5348</td>\n",
              "      <td>0.5319</td>\n",
              "      <td>0.5377</td>\n",
              "    </tr>\n",
              "    <tr>\n",
              "      <th>3</th>\n",
              "      <td>AND Rule</td>\n",
              "      <td>0.5652</td>\n",
              "      <td>0.5624</td>\n",
              "      <td>0.5680</td>\n",
              "    </tr>\n",
              "    <tr>\n",
              "      <th>4</th>\n",
              "      <td>OR Rule</td>\n",
              "      <td>0.5443</td>\n",
              "      <td>0.5415</td>\n",
              "      <td>0.5471</td>\n",
              "    </tr>\n",
              "    <tr>\n",
              "      <th>5</th>\n",
              "      <td>Majority</td>\n",
              "      <td>0.5909</td>\n",
              "      <td>0.5881</td>\n",
              "      <td>0.5937</td>\n",
              "    </tr>\n",
              "    <tr>\n",
              "      <th>6</th>\n",
              "      <td>Dominance_NB</td>\n",
              "      <td>0.5814</td>\n",
              "      <td>0.5786</td>\n",
              "      <td>0.5842</td>\n",
              "    </tr>\n",
              "    <tr>\n",
              "      <th>7</th>\n",
              "      <td>Dominance_Logreg</td>\n",
              "      <td>0.5942</td>\n",
              "      <td>0.5914</td>\n",
              "      <td>0.5969</td>\n",
              "    </tr>\n",
              "    <tr>\n",
              "      <th>8</th>\n",
              "      <td>Dominance_SVC</td>\n",
              "      <td>0.5505</td>\n",
              "      <td>0.5477</td>\n",
              "      <td>0.5534</td>\n",
              "    </tr>\n",
              "  </tbody>\n",
              "</table>\n",
              "</div>"
            ],
            "text/plain": [
              "                   Algorithm  YI estimate  YI 95% UB  YI 95% LB\n",
              "0                Naive Bayes       0.5647     0.5618     0.5675\n",
              "1        Logistic Regression       0.6009     0.5981     0.6037\n",
              "2  Support Vector Classifier       0.5348     0.5319     0.5377\n",
              "3                   AND Rule       0.5652     0.5624     0.5680\n",
              "4                    OR Rule       0.5443     0.5415     0.5471\n",
              "5                   Majority       0.5909     0.5881     0.5937\n",
              "6               Dominance_NB       0.5814     0.5786     0.5842\n",
              "7           Dominance_Logreg       0.5942     0.5914     0.5969\n",
              "8              Dominance_SVC       0.5505     0.5477     0.5534"
            ]
          },
          "metadata": {
            "tags": []
          },
          "execution_count": 20
        }
      ]
    },
    {
      "cell_type": "markdown",
      "metadata": {
        "id": "KcEzvXF-pXig"
      },
      "source": [
        "# **LOAD RESULT TABLE**"
      ]
    },
    {
      "cell_type": "code",
      "metadata": {
        "colab": {
          "base_uri": "https://localhost:8080/",
          "height": 326
        },
        "id": "ncmsGkNivdW6",
        "outputId": "0e1d2c23-808f-4c86-dd3c-201fc65ae560"
      },
      "source": [
        "# result_table = accuracy_table.join(yi_table.drop(['Algorithm'], axis=1)).join(cm.drop(['Unnamed: 0'], axis=1))\n",
        "# # save table to .xlsx\n",
        "# result_table.to_excel('v%s result table.xlsx' % version)\n",
        "\n",
        "# load table\n",
        "result_table = pd.read_excel('v%s result table.xlsx' % version)\n",
        "# drop first column\n",
        "result_table = result_table.drop(['Unnamed: 0'], axis=1)\n",
        "result_table"
      ],
      "execution_count": null,
      "outputs": [
        {
          "output_type": "execute_result",
          "data": {
            "text/html": [
              "<div>\n",
              "<style scoped>\n",
              "    .dataframe tbody tr th:only-of-type {\n",
              "        vertical-align: middle;\n",
              "    }\n",
              "\n",
              "    .dataframe tbody tr th {\n",
              "        vertical-align: top;\n",
              "    }\n",
              "\n",
              "    .dataframe thead th {\n",
              "        text-align: right;\n",
              "    }\n",
              "</style>\n",
              "<table border=\"1\" class=\"dataframe\">\n",
              "  <thead>\n",
              "    <tr style=\"text-align: right;\">\n",
              "      <th></th>\n",
              "      <th>Algorithm</th>\n",
              "      <th>Accuracy Estimate</th>\n",
              "      <th>Acc 95% UB</th>\n",
              "      <th>Acc 95% LB</th>\n",
              "      <th>YI estimate</th>\n",
              "      <th>YI 95% UB</th>\n",
              "      <th>YI 95% LB</th>\n",
              "      <th>tp</th>\n",
              "      <th>fp</th>\n",
              "      <th>fn</th>\n",
              "      <th>tn</th>\n",
              "    </tr>\n",
              "  </thead>\n",
              "  <tbody>\n",
              "    <tr>\n",
              "      <th>0</th>\n",
              "      <td>Naive Bayes</td>\n",
              "      <td>0.7823</td>\n",
              "      <td>0.7809</td>\n",
              "      <td>0.7838</td>\n",
              "      <td>0.5647</td>\n",
              "      <td>0.5618</td>\n",
              "      <td>0.5675</td>\n",
              "      <td>122396</td>\n",
              "      <td>32048</td>\n",
              "      <td>37604</td>\n",
              "      <td>127952</td>\n",
              "    </tr>\n",
              "    <tr>\n",
              "      <th>1</th>\n",
              "      <td>Logistic Regression</td>\n",
              "      <td>0.8005</td>\n",
              "      <td>0.7991</td>\n",
              "      <td>0.8018</td>\n",
              "      <td>0.6009</td>\n",
              "      <td>0.5981</td>\n",
              "      <td>0.6037</td>\n",
              "      <td>130111</td>\n",
              "      <td>33965</td>\n",
              "      <td>29889</td>\n",
              "      <td>126035</td>\n",
              "    </tr>\n",
              "    <tr>\n",
              "      <th>2</th>\n",
              "      <td>Support Vector Classifier</td>\n",
              "      <td>0.7674</td>\n",
              "      <td>0.7659</td>\n",
              "      <td>0.7689</td>\n",
              "      <td>0.5348</td>\n",
              "      <td>0.5319</td>\n",
              "      <td>0.5377</td>\n",
              "      <td>127168</td>\n",
              "      <td>41599</td>\n",
              "      <td>32832</td>\n",
              "      <td>118401</td>\n",
              "    </tr>\n",
              "    <tr>\n",
              "      <th>3</th>\n",
              "      <td>AND Rule</td>\n",
              "      <td>0.7826</td>\n",
              "      <td>0.7812</td>\n",
              "      <td>0.7840</td>\n",
              "      <td>0.5652</td>\n",
              "      <td>0.5624</td>\n",
              "      <td>0.5680</td>\n",
              "      <td>111733</td>\n",
              "      <td>21298</td>\n",
              "      <td>48267</td>\n",
              "      <td>138702</td>\n",
              "    </tr>\n",
              "    <tr>\n",
              "      <th>4</th>\n",
              "      <td>OR Rule</td>\n",
              "      <td>0.7721</td>\n",
              "      <td>0.7707</td>\n",
              "      <td>0.7736</td>\n",
              "      <td>0.5443</td>\n",
              "      <td>0.5415</td>\n",
              "      <td>0.5471</td>\n",
              "      <td>139943</td>\n",
              "      <td>52860</td>\n",
              "      <td>20057</td>\n",
              "      <td>107140</td>\n",
              "    </tr>\n",
              "    <tr>\n",
              "      <th>5</th>\n",
              "      <td>Majority</td>\n",
              "      <td>0.7955</td>\n",
              "      <td>0.7941</td>\n",
              "      <td>0.7968</td>\n",
              "      <td>0.5909</td>\n",
              "      <td>0.5881</td>\n",
              "      <td>0.5937</td>\n",
              "      <td>127999</td>\n",
              "      <td>33454</td>\n",
              "      <td>32001</td>\n",
              "      <td>126546</td>\n",
              "    </tr>\n",
              "    <tr>\n",
              "      <th>6</th>\n",
              "      <td>Dominance_NB</td>\n",
              "      <td>0.7907</td>\n",
              "      <td>0.7893</td>\n",
              "      <td>0.7921</td>\n",
              "      <td>0.5814</td>\n",
              "      <td>0.5786</td>\n",
              "      <td>0.5842</td>\n",
              "      <td>130342</td>\n",
              "      <td>37318</td>\n",
              "      <td>29658</td>\n",
              "      <td>122682</td>\n",
              "    </tr>\n",
              "    <tr>\n",
              "      <th>7</th>\n",
              "      <td>Dominance_Logreg</td>\n",
              "      <td>0.7971</td>\n",
              "      <td>0.7957</td>\n",
              "      <td>0.7985</td>\n",
              "      <td>0.5942</td>\n",
              "      <td>0.5914</td>\n",
              "      <td>0.5969</td>\n",
              "      <td>132340</td>\n",
              "      <td>37275</td>\n",
              "      <td>27660</td>\n",
              "      <td>122725</td>\n",
              "    </tr>\n",
              "    <tr>\n",
              "      <th>8</th>\n",
              "      <td>Dominance_SVC</td>\n",
              "      <td>0.7753</td>\n",
              "      <td>0.7738</td>\n",
              "      <td>0.7767</td>\n",
              "      <td>0.5505</td>\n",
              "      <td>0.5477</td>\n",
              "      <td>0.5534</td>\n",
              "      <td>133259</td>\n",
              "      <td>45175</td>\n",
              "      <td>26741</td>\n",
              "      <td>114825</td>\n",
              "    </tr>\n",
              "  </tbody>\n",
              "</table>\n",
              "</div>"
            ],
            "text/plain": [
              "                   Algorithm  Accuracy Estimate  ...     fn      tn\n",
              "0                Naive Bayes             0.7823  ...  37604  127952\n",
              "1        Logistic Regression             0.8005  ...  29889  126035\n",
              "2  Support Vector Classifier             0.7674  ...  32832  118401\n",
              "3                   AND Rule             0.7826  ...  48267  138702\n",
              "4                    OR Rule             0.7721  ...  20057  107140\n",
              "5                   Majority             0.7955  ...  32001  126546\n",
              "6               Dominance_NB             0.7907  ...  29658  122682\n",
              "7           Dominance_Logreg             0.7971  ...  27660  122725\n",
              "8              Dominance_SVC             0.7753  ...  26741  114825\n",
              "\n",
              "[9 rows x 11 columns]"
            ]
          },
          "metadata": {
            "tags": []
          },
          "execution_count": 22
        }
      ]
    },
    {
      "cell_type": "code",
      "metadata": {
        "id": "Ygnc_A-qkih4"
      },
      "source": [
        ""
      ],
      "execution_count": null,
      "outputs": []
    }
  ]
}